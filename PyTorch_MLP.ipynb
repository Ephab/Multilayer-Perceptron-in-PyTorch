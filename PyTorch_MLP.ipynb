{
  "cells": [
    {
      "cell_type": "markdown",
      "metadata": {
        "id": "view-in-github",
        "colab_type": "text"
      },
      "source": [
        "<a href=\"https://colab.research.google.com/github/Ephab/Multilayer-Perceptron-in-PyTorch/blob/main/PyTorch_MLP.ipynb\" target=\"_parent\"><img src=\"https://colab.research.google.com/assets/colab-badge.svg\" alt=\"Open In Colab\"/></a>"
      ]
    },
    {
      "cell_type": "code",
      "execution_count": 183,
      "metadata": {
        "id": "iPhZYIVDkJWs"
      },
      "outputs": [],
      "source": [
        "import torch\n",
        "from torchvision import datasets, transforms\n",
        "from torch.utils.data import DataLoader\n",
        "import torch.nn as nn"
      ]
    },
    {
      "cell_type": "code",
      "execution_count": 184,
      "metadata": {
        "colab": {
          "base_uri": "https://localhost:8080/"
        },
        "id": "c9dS1XkjkJZJ",
        "outputId": "49e57037-50f0-4781-b406-66df8a97866c"
      },
      "outputs": [
        {
          "output_type": "stream",
          "name": "stdout",
          "text": [
            "True\n"
          ]
        }
      ],
      "source": [
        "print(torch.cuda.is_available())\n",
        "device = 'cuda'"
      ]
    },
    {
      "cell_type": "code",
      "execution_count": 185,
      "metadata": {
        "id": "6zp-lifDkJba"
      },
      "outputs": [],
      "source": [
        "transform = transforms.ToTensor()\n",
        "\n",
        "training = datasets.MNIST('./data', train=True, download=True, transform=transform)\n",
        "testing = datasets.MNIST('./data', train=False, download=True, transform=transform)"
      ]
    },
    {
      "cell_type": "code",
      "execution_count": 186,
      "metadata": {
        "id": "dSIaZeKyRBSt"
      },
      "outputs": [],
      "source": [
        "from torch.utils.data import random_split\n",
        "\n",
        "train_set, dev_set = random_split(training, [50000, 10000])"
      ]
    },
    {
      "cell_type": "code",
      "execution_count": 187,
      "metadata": {
        "id": "-hjrghTLkJdz"
      },
      "outputs": [],
      "source": [
        "training_loader = DataLoader(train_set, batch_size=32, shuffle=True)\n",
        "dev_loader = DataLoader(dev_set, batch_size=32)\n",
        "testing_loader = DataLoader(testing, batch_size=32)"
      ]
    },
    {
      "cell_type": "code",
      "execution_count": 188,
      "metadata": {
        "id": "HtjAO-1OkJgG"
      },
      "outputs": [],
      "source": [
        "class NeuralNetwork(nn.Module):\n",
        "    def __init__(self, input_size, hidden_layers, output_size):\n",
        "        super().__init__()\n",
        "        self.layers = [input_size] + hidden_layers + [output_size]\n",
        "        self.network_layers = nn.ModuleList()\n",
        "        self.relu = nn.ReLU()\n",
        "\n",
        "        for i in range(len(self.layers)-1):\n",
        "            self.network_layers.append(nn.Linear(self.layers[i], self.layers[i+1]))\n",
        "\n",
        "    def forward(self, x):\n",
        "        for i in range(len(self.network_layers)-1): # all layers except output\n",
        "            x = self.network_layers[i](x)\n",
        "            x = self.relu(x)\n",
        "        #output\n",
        "        x = self.network_layers[-1](x)\n",
        "        return x"
      ]
    },
    {
      "cell_type": "code",
      "execution_count": 189,
      "metadata": {
        "colab": {
          "base_uri": "https://localhost:8080/"
        },
        "id": "hT_BwRIplU_D",
        "outputId": "3d1ea7a8-15ca-41c1-b1c8-4795739adcd0"
      },
      "outputs": [
        {
          "output_type": "stream",
          "name": "stdout",
          "text": [
            "[784, 256, 10]\n"
          ]
        }
      ],
      "source": [
        "net = NeuralNetwork(784, [256], 10).cuda()\n",
        "print(net.layers)"
      ]
    },
    {
      "cell_type": "code",
      "execution_count": 190,
      "metadata": {
        "id": "tgTsky-SShkV"
      },
      "outputs": [],
      "source": [
        "def dataset_accuracy(model, loader):\n",
        "    model.eval()\n",
        "    with torch.no_grad():\n",
        "        correct_predictions = 0\n",
        "        for X, y in loader:\n",
        "\n",
        "            X = X.reshape(-1, 784).cuda()\n",
        "            y = y.cuda()\n",
        "\n",
        "            output = model(X)\n",
        "            correct_predictions += torch.sum(torch.max(output, 1)[1] == y).item()\n",
        "        model.train()\n",
        "        return correct_predictions / len(loader.dataset)"
      ]
    },
    {
      "cell_type": "code",
      "execution_count": 193,
      "metadata": {
        "colab": {
          "base_uri": "https://localhost:8080/"
        },
        "id": "czrDSz8-qcss",
        "outputId": "206ce576-7986-448c-d0df-129d671fd5a0"
      },
      "outputs": [
        {
          "output_type": "stream",
          "name": "stdout",
          "text": [
            "epoch: 1  loss = 0.00510953219560046, training accuracy = 0.9992, dev accuracy = 0.9799\n",
            "epoch: 2  loss = 0.0036730177444082787, training accuracy = 0.99946, dev accuracy = 0.9798\n",
            "epoch: 3  loss = 0.002745065802763813, training accuracy = 0.99986, dev accuracy = 0.9811\n",
            "epoch: 4  loss = 0.0031857487986646288, training accuracy = 0.9996, dev accuracy = 0.9799\n",
            "epoch: 5  loss = 0.003117023300413609, training accuracy = 0.99972, dev accuracy = 0.9814\n",
            "epoch: 6  loss = 0.0019798365278531943, training accuracy = 0.99996, dev accuracy = 0.9812\n",
            "epoch: 7  loss = 0.003466455257395669, training accuracy = 0.99936, dev accuracy = 0.9813\n",
            "epoch: 8  loss = 0.002079779094112693, training accuracy = 0.99992, dev accuracy = 0.9825\n",
            "epoch: 9  loss = 0.003439947837975692, training accuracy = 0.99942, dev accuracy = 0.9804\n",
            "epoch: 10  loss = 0.0019909543124286906, training accuracy = 0.99984, dev accuracy = 0.9807\n",
            "epoch: 11  loss = 0.002357969750161793, training accuracy = 0.99976, dev accuracy = 0.9807\n",
            "epoch: 12  loss = 0.003079320039024882, training accuracy = 0.9995, dev accuracy = 0.9797\n",
            "epoch: 13  loss = 0.0015371604505562155, training accuracy = 0.99998, dev accuracy = 0.9813\n",
            "epoch: 14  loss = 0.002893456104905402, training accuracy = 0.99958, dev accuracy = 0.9829\n",
            "epoch: 15  loss = 0.0015215430097213975, training accuracy = 0.99994, dev accuracy = 0.9813\n",
            "epoch: 16  loss = 0.003364508233888509, training accuracy = 0.99948, dev accuracy = 0.9823\n",
            "epoch: 17  loss = 0.0016945154241774206, training accuracy = 0.99988, dev accuracy = 0.9819\n",
            "epoch: 18  loss = 0.002810028548607493, training accuracy = 0.99966, dev accuracy = 0.9812\n",
            "epoch: 19  loss = 0.0013666855857890656, training accuracy = 1.0, dev accuracy = 0.982\n",
            "epoch: 20  loss = 0.004149224692693716, training accuracy = 0.99914, dev accuracy = 0.9815\n",
            "------------------\n",
            "Test set accuracy = 0.9837\n"
          ]
        }
      ],
      "source": [
        "import torch.optim\n",
        "\n",
        "loss_function = nn.CrossEntropyLoss()\n",
        "optimizer = torch.optim.AdamW(net.parameters(), lr=0.0005, weight_decay=0.05)\n",
        "\n",
        "\n",
        "epochs = 20\n",
        "for epoch in range(epochs):\n",
        "\n",
        "    epoch_loss = 0\n",
        "    correct_predictions = 0\n",
        "\n",
        "    for X, y in training_loader:\n",
        "\n",
        "        X = X.reshape(-1, 784).cuda()\n",
        "        y = y.cuda()\n",
        "\n",
        "        optimizer.zero_grad()\n",
        "        output = net(X)\n",
        "        loss = loss_function(output, y)\n",
        "        loss.backward()\n",
        "        optimizer.step()\n",
        "\n",
        "        epoch_loss += loss.item()\n",
        "        correct_predictions += torch.sum(torch.max(output, dim=1)[1] == y).item()\n",
        "\n",
        "    loss_score = epoch_loss/len(training_loader)\n",
        "    training_accuracy = correct_predictions/len(training_loader.dataset)\n",
        "    dev_accuracy = dataset_accuracy(net, dev_loader)\n",
        "\n",
        "    print(f\"epoch: {epoch+1}  loss = {loss_score}, training accuracy = {training_accuracy}, dev accuracy = {dev_accuracy}\")\n",
        "\n",
        "print('------------------')\n",
        "print(f'Test set accuracy = {dataset_accuracy(net, testing_loader)}')"
      ]
    },
    {
      "cell_type": "code",
      "execution_count": 257,
      "metadata": {
        "colab": {
          "base_uri": "https://localhost:8080/",
          "height": 274
        },
        "id": "Cp-PUZ1xVs5O",
        "outputId": "f5717543-7039-4cdb-982f-98d82c27fa60"
      },
      "outputs": [
        {
          "output_type": "display_data",
          "data": {
            "text/plain": [
              "<Figure size 2000x600 with 5 Axes>"
            ],
            "image/png": "[encoded data removed]"
          },
          "metadata": {}
        }
      ],
      "source": [
        "import matplotlib.pyplot as plt\n",
        "import numpy as np\n",
        "\n",
        "def visualize_mnist(model, loader, num_images = 5):\n",
        "    random_choices = np.random.randint(1, 10000, size=num_images)\n",
        "\n",
        "    images_list = []\n",
        "    labels_list = []\n",
        "    predictions_list = []\n",
        "\n",
        "    for choice in random_choices:\n",
        "        X, y = loader.dataset[choice]\n",
        "        X = X.reshape(-1, 784).to('cuda:0')\n",
        "\n",
        "        _, pred = torch.max(net(X), 1)\n",
        "        predictions_list.append(pred.item())\n",
        "\n",
        "        images_list.append(X.cpu())\n",
        "        labels_list.append(y)\n",
        "\n",
        "    fig, axes = plt.subplots(1, num_images, figsize=(20, 6))\n",
        "    for i in range(num_images):\n",
        "        axes[i].imshow(images_list[i].reshape(28,28), cmap='gray')\n",
        "        axes[i].axis('off')\n",
        "        axes[i].set_title(f'true: {labels_list[i]}\\npredicted: {predictions_list[i]}')\n",
        "\n",
        "    plt.show()\n",
        "visualize_mnist(net, testing_loader)"
      ]
    }
  ],
  "metadata": {
    "accelerator": "GPU",
    "colab": {
      "gpuType": "T4",
      "provenance": [],
      "authorship_tag": "ABX9TyOyEvpLfmZYOazzVt8ggqsj",
      "include_colab_link": true
    },
    "kernelspec": {
      "display_name": "Python 3",
      "name": "python3"
    },
    "language_info": {
      "name": "python"
    }
  },
  "nbformat": 4,
  "nbformat_minor": 0
}