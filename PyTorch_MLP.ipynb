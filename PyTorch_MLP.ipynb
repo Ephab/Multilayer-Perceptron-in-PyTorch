{
  "cells": [
    {
      "cell_type": "code",
      "execution_count": 89,
      "metadata": {
        "id": "iPhZYIVDkJWs"
      },
      "outputs": [],
      "source": [
        "import torch\n",
        "from torchvision import datasets, transforms\n",
        "from torch.utils.data import DataLoader\n",
        "import torch.nn as nn\n",
        "\n",
        "# !pip install gradio\n",
        "import gradio as gr"
      ]
    },
    {
      "cell_type": "code",
      "execution_count": 90,
      "metadata": {
        "colab": {
          "base_uri": "https://localhost:8080/"
        },
        "id": "c9dS1XkjkJZJ",
        "outputId": "326e28dd-5211-4ae6-8817-fbc1e50c00b0"
      },
      "outputs": [
        {
          "output_type": "stream",
          "name": "stdout",
          "text": [
            "True\n"
          ]
        }
      ],
      "source": [
        "print(torch.cuda.is_available())\n",
        "device = 'cuda'"
      ]
    },
    {
      "cell_type": "code",
      "execution_count": 91,
      "metadata": {
        "id": "6zp-lifDkJba"
      },
      "outputs": [],
      "source": [
        "transform = transforms.ToTensor()\n",
        "\n",
        "training = datasets.MNIST('./data', train=True, download=True, transform=transform)\n",
        "testing = datasets.MNIST('./data', train=False, download=True, transform=transform)"
      ]
    },
    {
      "cell_type": "code",
      "execution_count": 92,
      "metadata": {
        "id": "dSIaZeKyRBSt"
      },
      "outputs": [],
      "source": [
        "from torch.utils.data import random_split\n",
        "\n",
        "train_set, dev_set = random_split(training, [50000, 10000])"
      ]
    },
    {
      "cell_type": "code",
      "execution_count": 123,
      "metadata": {
        "id": "-hjrghTLkJdz"
      },
      "outputs": [],
      "source": [
        "training_loader = DataLoader(train_set, batch_size=32, shuffle=True)\n",
        "dev_loader = DataLoader(dev_set, batch_size=32)\n",
        "testing_loader = DataLoader(testing, batch_size=32)"
      ]
    },
    {
      "cell_type": "code",
      "execution_count": 94,
      "metadata": {
        "id": "HtjAO-1OkJgG"
      },
      "outputs": [],
      "source": [
        "class NeuralNetwork(nn.Module):\n",
        "    def __init__(self, input_size, hidden_layers, output_size, dropout=0.0, batch_norm=True):\n",
        "        super().__init__()\n",
        "        self.layers = [input_size] + hidden_layers + [output_size]\n",
        "        self.network_layers = nn.ModuleList()\n",
        "        self.batch_norm_layers = nn.ModuleList()\n",
        "        self.batch_norm = batch_norm\n",
        "        self.relu = nn.ReLU()\n",
        "        self.dropout_prob = dropout\n",
        "        self.dropout = nn.Dropout(self.dropout_prob)\n",
        "\n",
        "        for i in range(len(self.layers)-1):\n",
        "            self.network_layers.append(nn.Linear(self.layers[i], self.layers[i+1]))\n",
        "            if batch_norm == True:\n",
        "                self.batch_norm_layers.append(nn.BatchNorm1d(self.layers[i+1]))\n",
        "\n",
        "    def forward(self, x):\n",
        "        for i in range(len(self.network_layers)-1): # all layers except output\n",
        "            x = self.network_layers[i](x)\n",
        "            if self.batch_norm:\n",
        "                x = self.batch_norm_layers[i](x)\n",
        "            x = self.relu(x)\n",
        "            x = self.dropout(x)\n",
        "\n",
        "        #output\n",
        "        x = self.network_layers[-1](x)\n",
        "        return x"
      ]
    },
    {
      "cell_type": "code",
      "execution_count": 95,
      "metadata": {
        "colab": {
          "base_uri": "https://localhost:8080/"
        },
        "id": "hT_BwRIplU_D",
        "outputId": "ab4a1c2b-db4b-417e-d7c3-0546da906d8e"
      },
      "outputs": [
        {
          "output_type": "stream",
          "name": "stdout",
          "text": [
            "[784, 256, 10]\n"
          ]
        }
      ],
      "source": [
        "net = NeuralNetwork(784, [256], 10, dropout=0.3, batch_norm=True).cuda()\n",
        "print(net.layers)"
      ]
    },
    {
      "cell_type": "code",
      "execution_count": 96,
      "metadata": {
        "id": "tgTsky-SShkV"
      },
      "outputs": [],
      "source": [
        "def dataset_accuracy(model, loader):\n",
        "    model.eval()\n",
        "\n",
        "    with torch.no_grad():\n",
        "        correct_predictions = 0\n",
        "        for X, y in loader:\n",
        "\n",
        "            X = X.reshape(-1, 784).cuda()\n",
        "            y = y.cuda()\n",
        "\n",
        "            output = model(X)\n",
        "            correct_predictions += torch.sum(torch.max(output, 1)[1] == y).item()\n",
        "\n",
        "        model.train()\n",
        "        return correct_predictions / len(loader.dataset)"
      ]
    },
    {
      "cell_type": "code",
      "execution_count": 103,
      "metadata": {
        "colab": {
          "base_uri": "https://localhost:8080/"
        },
        "id": "czrDSz8-qcss",
        "outputId": "ea89eda7-35c9-4693-93d1-f91a75cb1d8b"
      },
      "outputs": [
        {
          "output_type": "stream",
          "name": "stdout",
          "text": [
            "epoch: 1  loss = 0.0611350848141376, training accuracy = 0.98128, dev accuracy = 0.9785\n",
            "epoch: 2  loss = 0.05855127180415853, training accuracy = 0.98286, dev accuracy = 0.9803\n",
            "epoch: 3  loss = 0.059335470495129425, training accuracy = 0.98244, dev accuracy = 0.9803\n",
            "epoch: 4  loss = 0.059111130810703225, training accuracy = 0.98262, dev accuracy = 0.9771\n",
            "epoch: 5  loss = 0.05768978995448592, training accuracy = 0.98278, dev accuracy = 0.9793\n",
            "epoch: 6  loss = 0.056362999156558374, training accuracy = 0.98398, dev accuracy = 0.9767\n",
            "epoch: 7  loss = 0.05769794328127507, training accuracy = 0.98318, dev accuracy = 0.9778\n",
            "epoch: 8  loss = 0.05759546857461886, training accuracy = 0.98348, dev accuracy = 0.9801\n",
            "epoch: 9  loss = 0.05630730801281029, training accuracy = 0.98314, dev accuracy = 0.9816\n",
            "epoch: 10  loss = 0.05691786973289693, training accuracy = 0.98302, dev accuracy = 0.9809\n",
            "epoch: 11  loss = 0.056746381839501335, training accuracy = 0.98274, dev accuracy = 0.979\n",
            "epoch: 12  loss = 0.05775415785601738, training accuracy = 0.98294, dev accuracy = 0.9794\n",
            "epoch: 13  loss = 0.05695542106101014, training accuracy = 0.9825, dev accuracy = 0.9792\n",
            "epoch: 14  loss = 0.057125442841144486, training accuracy = 0.9833, dev accuracy = 0.9769\n",
            "epoch: 15  loss = 0.05562698328048253, training accuracy = 0.98352, dev accuracy = 0.98\n",
            "epoch: 16  loss = 0.05598026750697465, training accuracy = 0.98396, dev accuracy = 0.9806\n",
            "epoch: 17  loss = 0.055448752297779694, training accuracy = 0.98348, dev accuracy = 0.9794\n",
            "epoch: 18  loss = 0.055733436947391725, training accuracy = 0.9834, dev accuracy = 0.9787\n",
            "epoch: 19  loss = 0.057349087735989575, training accuracy = 0.98332, dev accuracy = 0.9788\n",
            "epoch: 20  loss = 0.05535229997872062, training accuracy = 0.9832, dev accuracy = 0.98\n",
            "------------------\n",
            "Test set accuracy = 0.9804\n"
          ]
        }
      ],
      "source": [
        "import torch.optim\n",
        "\n",
        "loss_function = nn.CrossEntropyLoss()\n",
        "optimizer = torch.optim.AdamW(net.parameters(), lr=0.0008, weight_decay=0.06)\n",
        "\n",
        "epochs = 20\n",
        "for epoch in range(epochs):\n",
        "\n",
        "    epoch_loss = 0\n",
        "    correct_predictions = 0\n",
        "\n",
        "    for X, y in training_loader:\n",
        "\n",
        "        X = X.reshape(-1, 784).cuda()\n",
        "        y = y.cuda()\n",
        "\n",
        "        optimizer.zero_grad()\n",
        "        output = net(X)\n",
        "        loss = loss_function(output, y)\n",
        "        loss.backward()\n",
        "        optimizer.step()\n",
        "\n",
        "        epoch_loss += loss.item()\n",
        "        correct_predictions += torch.sum(torch.max(output, dim=1)[1] == y).item()\n",
        "\n",
        "    loss_score = epoch_loss/len(training_loader)\n",
        "    training_accuracy = correct_predictions/len(training_loader.dataset)\n",
        "    dev_accuracy = dataset_accuracy(net, dev_loader)\n",
        "\n",
        "    print(f\"epoch: {epoch+1}  loss = {loss_score}, training accuracy = {training_accuracy}, dev accuracy = {dev_accuracy}\")\n",
        "\n",
        "print('------------------')\n",
        "print(f'Test set accuracy = {dataset_accuracy(net, testing_loader)}')"
      ]
    },
    {
      "cell_type": "code",
      "execution_count": 98,
      "metadata": {
        "colab": {
          "base_uri": "https://localhost:8080/",
          "height": 424
        },
        "id": "Cp-PUZ1xVs5O",
        "outputId": "13fba785-ebf5-4391-802e-0a7c6fb5c7c0"
      },
      "outputs": [
        {
          "output_type": "display_data",
          "data": {
            "text/plain": [
              "<Figure size 2000x600 with 10 Axes>"
            ],
            "image/png": "[encoded data removed]"
          },
          "metadata": {}
        }
      ],
      "source": [
        "import matplotlib.pyplot as plt\n",
        "import numpy as np\n",
        "\n",
        "def visualize_mnist(model, loader, num_images = 5):\n",
        "    random_choices = np.random.randint(1, 10000, size=num_images)\n",
        "\n",
        "    images_list = []\n",
        "    labels_list = []\n",
        "    predictions_list = []\n",
        "    probability_distributions_list = []\n",
        "\n",
        "    model.eval()\n",
        "    with torch.no_grad():\n",
        "        for choice in random_choices:\n",
        "            X, y = loader.dataset[choice]\n",
        "            X = X.reshape(-1, 784).to('cuda:0')\n",
        "\n",
        "            logits = model(X)\n",
        "\n",
        "            _, pred = torch.max(logits, 1)\n",
        "            predictions_list.append(pred.item())\n",
        "\n",
        "            probability_distributions_list.append(torch.softmax(logits, 1))\n",
        "\n",
        "            images_list.append(X.cpu())\n",
        "            labels_list.append(y)\n",
        "\n",
        "    fig, axes = plt.subplots(2, num_images, figsize=(20, 6))\n",
        "    for i in range(num_images):\n",
        "        axes[0, i].imshow(images_list[i].reshape(28,28), cmap='gray')\n",
        "        axes[0, i].axis('off')\n",
        "        axes[0, i].set_title(f'true: {labels_list[i]}\\npredicted: {predictions_list[i]}')\n",
        "        axes[1, i].bar(x=np.arange(10), height=probability_distributions_list[i].cpu().numpy().squeeze())\n",
        "        axes[1, i].set_xticks(np.arange(10))\n",
        "        axes[1, i].set_yticks(np.linspace(0.0, 1, 11))\n",
        "\n",
        "    model.train()\n",
        "    plt.show()\n",
        "visualize_mnist(net, testing_loader)"
      ]
    },
    {
      "cell_type": "code",
      "source": [
        "import gradio as gr\n",
        "from PIL import Image\n",
        "\n",
        "def predict(img):\n",
        "    # print(img.keys())\n",
        "\n",
        "    if isinstance(img, dict):\n",
        "        img = img[\"composite\"]\n",
        "\n",
        "    if img is None:\n",
        "        return {str(i): 0.0 for i in range(10)}\n",
        "\n",
        "\n",
        "    pil = Image.fromarray(img)\n",
        "    pil = pil.resize((28, 28)).convert('L')\n",
        "    image = np.array(pil, dtype=np.float32) / 255.0\n",
        "    image = image.reshape(-1, 28*28)\n",
        "\n",
        "    image = 1.0 - image\n",
        "\n",
        "\n",
        "    with torch.no_grad():\n",
        "        net.eval()\n",
        "\n",
        "        output = net(torch.from_numpy(image).cuda())\n",
        "        prediction = torch.softmax(output, 1).cpu().numpy()[0]\n",
        "\n",
        "        net.train()\n",
        "\n",
        "\n",
        "    return {str(i): float(prediction[i]) for i in range(10)}"
      ],
      "metadata": {
        "id": "9mY92Cb96S57"
      },
      "execution_count": 101,
      "outputs": []
    },
    {
      "cell_type": "code",
      "source": [
        "demo = gr.Interface(fn=predict, inputs=gr.Sketchpad(), outputs=gr.Label(num_top_classes=10), live=True)\n",
        "demo.launch(share=True, debug=False)"
      ],
      "metadata": {
        "colab": {
          "base_uri": "https://localhost:8080/",
          "height": 608
        },
        "id": "7godMtZM565p",
        "outputId": "59919835-7539-416f-d7e1-4ae052bbd8a2"
      },
      "execution_count": 112,
      "outputs": [
        {
          "output_type": "stream",
          "name": "stdout",
          "text": [
            "Colab notebook detected. To show errors in colab notebook, set debug=True in launch()\n",
            "* Running on public URL: https://fda9c16f869eb8add6.gradio.live\n",
            "\n",
            "This share link expires in 1 week. For free permanent hosting and GPU upgrades, run `gradio deploy` from the terminal in the working directory to deploy to Hugging Face Spaces (https://huggingface.co/spaces)\n"
          ]
        },
        {
          "output_type": "display_data",
          "data": {
            "text/plain": [
              "<IPython.core.display.HTML object>"
            ],
            "text/html": [
              "<div><iframe src=\"https://fda9c16f869eb8add6.gradio.live\" width=\"100%\" height=\"500\" allow=\"autoplay; camera; microphone; clipboard-read; clipboard-write;\" frameborder=\"0\" allowfullscreen></iframe></div>"
            ]
          },
          "metadata": {}
        },
        {
          "output_type": "execute_result",
          "data": {
            "text/plain": []
          },
          "metadata": {},
          "execution_count": 112
        }
      ]
    },
    {
      "cell_type": "code",
      "source": [
        "optimizers = {\n",
        "    'adam': torch.optim.AdamW,\n",
        "    'rmsprop': torch.optim.RMSprop,\n",
        "    'sgd': torch.optim.SGD\n",
        "}\n",
        "\n",
        "def train(epochs, hidden_layers:list, optimizer, lr, weight_decay, dropout, batch_norm):\n",
        "    net = NeuralNetwork(784, hidden_layers, 10, dropout=dropout, batch_norm=batch_norm).cuda()\n",
        "\n",
        "    loss_function = nn.CrossEntropyLoss()\n",
        "    optimizer = optimizers[optimizer](net.parameters(), lr = lr, weight_decay=weight_decay)\n",
        "\n",
        "    train_losses = []\n",
        "    train_accuracies = []\n",
        "    dev_accuracies = []\n",
        "\n",
        "    for epoch in range(epochs):\n",
        "        epoch_loss = 0\n",
        "        correct_predictions = 0\n",
        "\n",
        "        for X, y in training_loader:\n",
        "\n",
        "            X = X.reshape(-1, 784).cuda()\n",
        "            y = y.cuda()\n",
        "\n",
        "            optimizer.zero_grad()\n",
        "            output = net(X)\n",
        "            loss = loss_function(output, y)\n",
        "            loss.backward()\n",
        "            optimizer.step()\n",
        "\n",
        "            epoch_loss += loss.item()\n",
        "            correct_predictions += torch.sum(torch.max(output, dim=1)[1] == y).item()\n",
        "\n",
        "        loss_score = epoch_loss/len(training_loader)\n",
        "        training_accuracy = correct_predictions/len(training_loader.dataset)\n",
        "        dev_accuracy = dataset_accuracy(net, dev_loader)\n",
        "\n",
        "        train_losses.append(loss_score)\n",
        "        train_accuracies.append(training_accuracy)\n",
        "        dev_accuracies.append(dev_accuracy)\n",
        "\n",
        "        print(f\"epoch {epoch+1}: training_loss = {loss_score:.9f}, train_accuracy = {training_accuracy:.7f}, dev_accuracy = {dev_accuracy:.7f}\")\n",
        "    print('\\n\\n')\n",
        "    return {'training_losses':train_losses, 'training_accuracies':train_accuracies, 'dev_accuracies':dev_accuracies}"
      ],
      "metadata": {
        "id": "suqBic-3Md0s"
      },
      "execution_count": 124,
      "outputs": []
    },
    {
      "cell_type": "code",
      "source": [
        "history = train(epochs=20, hidden_layers=[256, 128], optimizer='adam', lr=0.0008, weight_decay=0.06, dropout=0.3, batch_norm=True)"
      ],
      "metadata": {
        "id": "sDCSdm58P04N",
        "outputId": "fb5ee27f-13f5-4c69-9a63-7bf5aeefaaca",
        "colab": {
          "base_uri": "https://localhost:8080/"
        }
      },
      "execution_count": 126,
      "outputs": [
        {
          "output_type": "stream",
          "name": "stdout",
          "text": [
            "epoch 1: training_loss = 0.339812097, train_accuracy = 0.9042400, dev_accuracy = 0.9622000\n",
            "epoch 2: training_loss = 0.185157885, train_accuracy = 0.9438600, dev_accuracy = 0.9679000\n",
            "epoch 3: training_loss = 0.151745307, train_accuracy = 0.9536000, dev_accuracy = 0.9741000\n",
            "epoch 4: training_loss = 0.133485126, train_accuracy = 0.9580600, dev_accuracy = 0.9742000\n",
            "epoch 5: training_loss = 0.121349489, train_accuracy = 0.9614200, dev_accuracy = 0.9769000\n",
            "epoch 6: training_loss = 0.111286848, train_accuracy = 0.9663600, dev_accuracy = 0.9770000\n",
            "epoch 7: training_loss = 0.104479162, train_accuracy = 0.9671600, dev_accuracy = 0.9782000\n",
            "epoch 8: training_loss = 0.099519314, train_accuracy = 0.9692000, dev_accuracy = 0.9784000\n",
            "epoch 9: training_loss = 0.094936971, train_accuracy = 0.9703600, dev_accuracy = 0.9777000\n",
            "epoch 10: training_loss = 0.089599179, train_accuracy = 0.9717000, dev_accuracy = 0.9795000\n",
            "epoch 11: training_loss = 0.089108936, train_accuracy = 0.9719000, dev_accuracy = 0.9793000\n",
            "epoch 12: training_loss = 0.086249783, train_accuracy = 0.9730400, dev_accuracy = 0.9819000\n",
            "epoch 13: training_loss = 0.083215508, train_accuracy = 0.9733400, dev_accuracy = 0.9820000\n",
            "epoch 14: training_loss = 0.079699875, train_accuracy = 0.9748400, dev_accuracy = 0.9809000\n",
            "epoch 15: training_loss = 0.078832352, train_accuracy = 0.9752200, dev_accuracy = 0.9807000\n",
            "epoch 16: training_loss = 0.077968962, train_accuracy = 0.9758200, dev_accuracy = 0.9801000\n",
            "epoch 17: training_loss = 0.075084459, train_accuracy = 0.9761800, dev_accuracy = 0.9804000\n",
            "epoch 18: training_loss = 0.076148659, train_accuracy = 0.9757200, dev_accuracy = 0.9819000\n",
            "epoch 19: training_loss = 0.074932276, train_accuracy = 0.9762000, dev_accuracy = 0.9809000\n",
            "epoch 20: training_loss = 0.075464860, train_accuracy = 0.9765200, dev_accuracy = 0.9807000\n",
            "\n",
            "\n",
            "\n"
          ]
        }
      ]
    },
    {
      "cell_type": "code",
      "source": [
        "plt.plot(np.arange(len(history['training_losses'])) + 1, history['training_losses'], label='training Loss')\n",
        "plt.plot(np.arange(len(history['training_accuracies'])) + 1, history['training_accuracies'], label='Training Accuracy')\n",
        "plt.plot(np.arange(len(history['dev_accuracies'])) + 1, history['dev_accuracies'], label='Dev Accuracy')\n",
        "plt.legend()\n",
        "plt.show()"
      ],
      "metadata": {
        "id": "luXMB943SMTs",
        "outputId": "11c0059e-8a15-4a74-8655-ed1b07eacd9b",
        "colab": {
          "base_uri": "https://localhost:8080/",
          "height": 450
        }
      },
      "execution_count": 129,
      "outputs": [
        {
          "output_type": "display_data",
          "data": {
            "text/plain": [
              "<Figure size 640x480 with 1 Axes>"
            ],
            "image/png": "[encoded data removed]"
          },
          "metadata": {}
        }
      ]
    }
  ],
  "metadata": {
    "accelerator": "GPU",
    "colab": {
      "gpuType": "T4",
      "provenance": [],
      "authorship_tag": "ABX9TyOGZ5IQhnEDjhSIoRG4UH+P"
    },
    "kernelspec": {
      "display_name": "Python 3",
      "name": "python3"
    },
    "language_info": {
      "name": "python"
    }
  },
  "nbformat": 4,
  "nbformat_minor": 0
}