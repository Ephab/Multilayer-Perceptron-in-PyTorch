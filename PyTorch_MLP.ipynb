{
  "nbformat": 4,
  "nbformat_minor": 0,
  "metadata": {
    "colab": {
      "provenance": [],
      "gpuType": "T4",
      "authorship_tag": "ABX9TyNPz5t9WdVM0cowaJHxv2VE"
    },
    "kernelspec": {
      "name": "python3",
      "display_name": "Python 3"
    },
    "language_info": {
      "name": "python"
    },
    "accelerator": "GPU"
  },
  "cells": [
    {
      "cell_type": "code",
      "source": [
        "import torch\n",
        "from torchvision import datasets, transforms\n",
        "from torch.utils.data import DataLoader\n",
        "import torch.nn as nn"
      ],
      "metadata": {
        "id": "iPhZYIVDkJWs"
      },
      "execution_count": 227,
      "outputs": []
    },
    {
      "cell_type": "code",
      "source": [
        "print(torch.cuda.is_available())\n",
        "device = 'cuda'"
      ],
      "metadata": {
        "colab": {
          "base_uri": "https://localhost:8080/"
        },
        "id": "c9dS1XkjkJZJ",
        "outputId": "7b7703ea-e7ac-4de9-8ed7-8c7ef70d72ba"
      },
      "execution_count": 228,
      "outputs": [
        {
          "output_type": "stream",
          "name": "stdout",
          "text": [
            "True\n"
          ]
        }
      ]
    },
    {
      "cell_type": "code",
      "source": [
        "transform = transforms.ToTensor()\n",
        "\n",
        "training = datasets.MNIST('./data', train=True, download=True, transform=transform)\n",
        "testing = datasets.MNIST('./data', train=False, download=True, transform=transform)"
      ],
      "metadata": {
        "id": "6zp-lifDkJba"
      },
      "execution_count": 229,
      "outputs": []
    },
    {
      "cell_type": "code",
      "source": [
        "from torch.utils.data import random_split\n",
        "\n",
        "train_set, dev_set = random_split(training, [50000, 10000])"
      ],
      "metadata": {
        "id": "dSIaZeKyRBSt"
      },
      "execution_count": 230,
      "outputs": []
    },
    {
      "cell_type": "code",
      "source": [
        "training_loader = DataLoader(train_set, batch_size=32, shuffle=True)\n",
        "dev_loader = DataLoader(dev_set, batch_size=32)\n",
        "testing_loader = DataLoader(testing, batch_size=32)"
      ],
      "metadata": {
        "id": "-hjrghTLkJdz"
      },
      "execution_count": 231,
      "outputs": []
    },
    {
      "cell_type": "code",
      "source": [
        "class NeuralNetwork(nn.Module):\n",
        "    def __init__(self, input_size, hidden_layers, output_size):\n",
        "        super().__init__()\n",
        "        self.layers = [input_size] + hidden_layers + [output_size]\n",
        "        self.network_layers = nn.ModuleList()\n",
        "        self.relu = nn.ReLU()\n",
        "\n",
        "        for i in range(len(self.layers)-1):\n",
        "            self.network_layers.append(nn.Linear(self.layers[i], self.layers[i+1]))\n",
        "\n",
        "    def forward(self, x):\n",
        "        for i in range(len(self.network_layers)-1): # all layers except output\n",
        "            x = self.network_layers[i](x)\n",
        "            x = self.relu(x)\n",
        "        #output\n",
        "        x = self.network_layers[-1](x)\n",
        "        return x"
      ],
      "metadata": {
        "id": "HtjAO-1OkJgG"
      },
      "execution_count": 232,
      "outputs": []
    },
    {
      "cell_type": "code",
      "source": [
        "net = NeuralNetwork(784, [256], 10).cuda()\n",
        "print(net.layers)"
      ],
      "metadata": {
        "colab": {
          "base_uri": "https://localhost:8080/"
        },
        "id": "hT_BwRIplU_D",
        "outputId": "847c4b42-f118-4360-ed7d-e5df769b6ca3"
      },
      "execution_count": 233,
      "outputs": [
        {
          "output_type": "stream",
          "name": "stdout",
          "text": [
            "[784, 256, 10]\n"
          ]
        }
      ]
    },
    {
      "cell_type": "code",
      "source": [
        "def dataset_accuracy(model, loader):\n",
        "    model.eval()\n",
        "    with torch.no_grad():\n",
        "        correct_predictions = 0\n",
        "        for X, y in loader:\n",
        "\n",
        "            X = X.reshape(-1, 784).cuda()\n",
        "            y = y.cuda()\n",
        "\n",
        "            output = model(X)\n",
        "            correct_predictions += torch.sum(torch.max(output, 1)[1] == y).item()\n",
        "        model.train()\n",
        "        return correct_predictions / len(loader.dataset)"
      ],
      "metadata": {
        "id": "tgTsky-SShkV"
      },
      "execution_count": 234,
      "outputs": []
    },
    {
      "cell_type": "code",
      "source": [
        "import torch.optim\n",
        "\n",
        "loss_function = nn.CrossEntropyLoss()\n",
        "optimizer = torch.optim.AdamW(net.parameters(), lr=0.001, weight_decay=0.01)\n",
        "\n",
        "\n",
        "epochs = 10\n",
        "for epoch in range(epochs):\n",
        "\n",
        "    epoch_loss = 0\n",
        "    correct_predictions = 0\n",
        "\n",
        "    for X, y in training_loader:\n",
        "\n",
        "        X = X.reshape(-1, 784).cuda()\n",
        "        y = y.cuda()\n",
        "\n",
        "        optimizer.zero_grad()\n",
        "        output = net(X)\n",
        "        loss = loss_function(output, y)\n",
        "        loss.backward()\n",
        "        optimizer.step()\n",
        "\n",
        "        epoch_loss += loss.item()\n",
        "        correct_predictions += torch.sum(torch.max(output, dim=1)[1] == y).item()\n",
        "\n",
        "    loss_score = epoch_loss/len(training_loader)\n",
        "    training_accuracy = correct_predictions/len(training_loader.dataset)\n",
        "    dev_accuracy = dataset_accuracy(net, dev_loader)\n",
        "\n",
        "    print(f\"epoch: {epoch+1}  loss = {loss_score}, training accuracy = {training_accuracy}, dev accuracy = {dev_accuracy}\")\n",
        "\n",
        "print('------------------')\n",
        "print(f'Test set accuracy = {dataset_accuracy(net, testing_loader)}')"
      ],
      "metadata": {
        "colab": {
          "base_uri": "https://localhost:8080/"
        },
        "id": "czrDSz8-qcss",
        "outputId": "563a0a18-ae7c-44d5-8efe-c639211e4fdc"
      },
      "execution_count": 235,
      "outputs": [
        {
          "output_type": "stream",
          "name": "stdout",
          "text": [
            "epoch: 1  loss = 0.2699259196986669, training accuracy = 0.9236, dev accuracy = 0.9607\n",
            "epoch: 2  loss = 0.11318894958311855, training accuracy = 0.96604, dev accuracy = 0.9706\n",
            "epoch: 3  loss = 0.07408975253864213, training accuracy = 0.97764, dev accuracy = 0.9753\n",
            "epoch: 4  loss = 0.053757797815611734, training accuracy = 0.98426, dev accuracy = 0.9755\n",
            "epoch: 5  loss = 0.04065246758555757, training accuracy = 0.98724, dev accuracy = 0.9759\n",
            "epoch: 6  loss = 0.031359427125385045, training accuracy = 0.99006, dev accuracy = 0.9791\n",
            "epoch: 7  loss = 0.02416669944869098, training accuracy = 0.9927, dev accuracy = 0.9742\n",
            "epoch: 8  loss = 0.019379476044814953, training accuracy = 0.9945, dev accuracy = 0.9774\n",
            "epoch: 9  loss = 0.017476896469812493, training accuracy = 0.99498, dev accuracy = 0.9741\n",
            "epoch: 10  loss = 0.013385888208829065, training accuracy = 0.99588, dev accuracy = 0.9752\n",
            "------------------\n",
            "Test set accuracy = 0.9752\n"
          ]
        }
      ]
    },
    {
      "cell_type": "code",
      "source": [
        "# import matplotlib.pyplot as plt\n",
        "# import numpy as np\n",
        "\n",
        "# def visualize_mnist(loader, num_images = 5):\n",
        "\n",
        "#     random_choices = np.random.randint(1, 60000, size=num_images)\n",
        "\n",
        "#     features_list = []\n",
        "#     labels_list = []\n",
        "\n",
        "#     for choice in random_choices:\n",
        "#         X, y = loader[choice]\n",
        "#         X = X.reshape(-1, 784)\n",
        "\n",
        "#         features_list.append(X)\n",
        "#         labels_list.append(y)\n",
        "\n",
        "#     fig, axes = plt.subplots(2, num_images, figsize=(20, 6))\n",
        "#     for i in range(num_images):\n",
        "#         axes[0, i].imshow(X, cmap='gray')\n",
        "\n",
        "# visualize_mnist(testing_loader)"
      ],
      "metadata": {
        "id": "Cp-PUZ1xVs5O"
      },
      "execution_count": 236,
      "outputs": []
    }
  ]
}