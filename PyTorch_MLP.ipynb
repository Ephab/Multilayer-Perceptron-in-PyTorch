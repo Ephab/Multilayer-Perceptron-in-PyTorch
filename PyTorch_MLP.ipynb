{
  "cells": [
    {
      "cell_type": "markdown",
      "metadata": {
        "id": "view-in-github",
        "colab_type": "text"
      },
      "source": [
        "<a href=\"https://colab.research.google.com/github/Ephab/Multilayer-Perceptron-in-PyTorch/blob/main/PyTorch_MLP.ipynb\" target=\"_parent\"><img src=\"https://colab.research.google.com/assets/colab-badge.svg\" alt=\"Open In Colab\"/></a>"
      ]
    },
    {
      "cell_type": "code",
      "execution_count": null,
      "metadata": {
        "id": "iPhZYIVDkJWs",
        "colab": {
          "base_uri": "https://localhost:8080/"
        },
        "outputId": "c6171791-49c2-45ce-f60b-ccfdfef86b34"
      },
      "outputs": [
        {
          "output_type": "stream",
          "name": "stdout",
          "text": [
            "Requirement already satisfied: gradio in /usr/local/lib/python3.12/dist-packages (5.42.0)\n",
            "Requirement already satisfied: aiofiles<25.0,>=22.0 in /usr/local/lib/python3.12/dist-packages (from gradio) (24.1.0)\n",
            "Requirement already satisfied: anyio<5.0,>=3.0 in /usr/local/lib/python3.12/dist-packages (from gradio) (4.10.0)\n",
            "Requirement already satisfied: brotli>=1.1.0 in /usr/local/lib/python3.12/dist-packages (from gradio) (1.1.0)\n",
            "Requirement already satisfied: fastapi<1.0,>=0.115.2 in /usr/local/lib/python3.12/dist-packages (from gradio) (0.116.1)\n",
            "Requirement already satisfied: ffmpy in /usr/local/lib/python3.12/dist-packages (from gradio) (0.6.1)\n",
            "Requirement already satisfied: gradio-client==1.11.1 in /usr/local/lib/python3.12/dist-packages (from gradio) (1.11.1)\n",
            "Requirement already satisfied: groovy~=0.1 in /usr/local/lib/python3.12/dist-packages (from gradio) (0.1.2)\n",
            "Requirement already satisfied: httpx<1.0,>=0.24.1 in /usr/local/lib/python3.12/dist-packages (from gradio) (0.28.1)\n",
            "Requirement already satisfied: huggingface-hub<1.0,>=0.33.5 in /usr/local/lib/python3.12/dist-packages (from gradio) (0.34.4)\n",
            "Requirement already satisfied: jinja2<4.0 in /usr/local/lib/python3.12/dist-packages (from gradio) (3.1.6)\n",
            "Requirement already satisfied: markupsafe<4.0,>=2.0 in /usr/local/lib/python3.12/dist-packages (from gradio) (3.0.2)\n",
            "Requirement already satisfied: numpy<3.0,>=1.0 in /usr/local/lib/python3.12/dist-packages (from gradio) (2.0.2)\n",
            "Requirement already satisfied: orjson~=3.0 in /usr/local/lib/python3.12/dist-packages (from gradio) (3.11.2)\n",
            "Requirement already satisfied: packaging in /usr/local/lib/python3.12/dist-packages (from gradio) (25.0)\n",
            "Requirement already satisfied: pandas<3.0,>=1.0 in /usr/local/lib/python3.12/dist-packages (from gradio) (2.2.2)\n",
            "Requirement already satisfied: pillow<12.0,>=8.0 in /usr/local/lib/python3.12/dist-packages (from gradio) (11.3.0)\n",
            "Requirement already satisfied: pydantic<2.12,>=2.0 in /usr/local/lib/python3.12/dist-packages (from gradio) (2.11.7)\n",
            "Requirement already satisfied: pydub in /usr/local/lib/python3.12/dist-packages (from gradio) (0.25.1)\n",
            "Requirement already satisfied: python-multipart>=0.0.18 in /usr/local/lib/python3.12/dist-packages (from gradio) (0.0.20)\n",
            "Requirement already satisfied: pyyaml<7.0,>=5.0 in /usr/local/lib/python3.12/dist-packages (from gradio) (6.0.2)\n",
            "Requirement already satisfied: ruff>=0.9.3 in /usr/local/lib/python3.12/dist-packages (from gradio) (0.12.9)\n",
            "Requirement already satisfied: safehttpx<0.2.0,>=0.1.6 in /usr/local/lib/python3.12/dist-packages (from gradio) (0.1.6)\n",
            "Requirement already satisfied: semantic-version~=2.0 in /usr/local/lib/python3.12/dist-packages (from gradio) (2.10.0)\n",
            "Requirement already satisfied: starlette<1.0,>=0.40.0 in /usr/local/lib/python3.12/dist-packages (from gradio) (0.47.2)\n",
            "Requirement already satisfied: tomlkit<0.14.0,>=0.12.0 in /usr/local/lib/python3.12/dist-packages (from gradio) (0.13.3)\n",
            "Requirement already satisfied: typer<1.0,>=0.12 in /usr/local/lib/python3.12/dist-packages (from gradio) (0.16.0)\n",
            "Requirement already satisfied: typing-extensions~=4.0 in /usr/local/lib/python3.12/dist-packages (from gradio) (4.14.1)\n",
            "Requirement already satisfied: uvicorn>=0.14.0 in /usr/local/lib/python3.12/dist-packages (from gradio) (0.35.0)\n",
            "Requirement already satisfied: fsspec in /usr/local/lib/python3.12/dist-packages (from gradio-client==1.11.1->gradio) (2025.3.0)\n",
            "Requirement already satisfied: websockets<16.0,>=10.0 in /usr/local/lib/python3.12/dist-packages (from gradio-client==1.11.1->gradio) (15.0.1)\n",
            "Requirement already satisfied: idna>=2.8 in /usr/local/lib/python3.12/dist-packages (from anyio<5.0,>=3.0->gradio) (3.10)\n",
            "Requirement already satisfied: sniffio>=1.1 in /usr/local/lib/python3.12/dist-packages (from anyio<5.0,>=3.0->gradio) (1.3.1)\n",
            "Requirement already satisfied: certifi in /usr/local/lib/python3.12/dist-packages (from httpx<1.0,>=0.24.1->gradio) (2025.8.3)\n",
            "Requirement already satisfied: httpcore==1.* in /usr/local/lib/python3.12/dist-packages (from httpx<1.0,>=0.24.1->gradio) (1.0.9)\n",
            "Requirement already satisfied: h11>=0.16 in /usr/local/lib/python3.12/dist-packages (from httpcore==1.*->httpx<1.0,>=0.24.1->gradio) (0.16.0)\n",
            "Requirement already satisfied: filelock in /usr/local/lib/python3.12/dist-packages (from huggingface-hub<1.0,>=0.33.5->gradio) (3.19.1)\n",
            "Requirement already satisfied: requests in /usr/local/lib/python3.12/dist-packages (from huggingface-hub<1.0,>=0.33.5->gradio) (2.32.4)\n",
            "Requirement already satisfied: tqdm>=4.42.1 in /usr/local/lib/python3.12/dist-packages (from huggingface-hub<1.0,>=0.33.5->gradio) (4.67.1)\n",
            "Requirement already satisfied: hf-xet<2.0.0,>=1.1.3 in /usr/local/lib/python3.12/dist-packages (from huggingface-hub<1.0,>=0.33.5->gradio) (1.1.7)\n",
            "Requirement already satisfied: python-dateutil>=2.8.2 in /usr/local/lib/python3.12/dist-packages (from pandas<3.0,>=1.0->gradio) (2.9.0.post0)\n",
            "Requirement already satisfied: pytz>=2020.1 in /usr/local/lib/python3.12/dist-packages (from pandas<3.0,>=1.0->gradio) (2025.2)\n",
            "Requirement already satisfied: tzdata>=2022.7 in /usr/local/lib/python3.12/dist-packages (from pandas<3.0,>=1.0->gradio) (2025.2)\n",
            "Requirement already satisfied: annotated-types>=0.6.0 in /usr/local/lib/python3.12/dist-packages (from pydantic<2.12,>=2.0->gradio) (0.7.0)\n",
            "Requirement already satisfied: pydantic-core==2.33.2 in /usr/local/lib/python3.12/dist-packages (from pydantic<2.12,>=2.0->gradio) (2.33.2)\n",
            "Requirement already satisfied: typing-inspection>=0.4.0 in /usr/local/lib/python3.12/dist-packages (from pydantic<2.12,>=2.0->gradio) (0.4.1)\n",
            "Requirement already satisfied: click>=8.0.0 in /usr/local/lib/python3.12/dist-packages (from typer<1.0,>=0.12->gradio) (8.2.1)\n",
            "Requirement already satisfied: shellingham>=1.3.0 in /usr/local/lib/python3.12/dist-packages (from typer<1.0,>=0.12->gradio) (1.5.4)\n",
            "Requirement already satisfied: rich>=10.11.0 in /usr/local/lib/python3.12/dist-packages (from typer<1.0,>=0.12->gradio) (13.9.4)\n",
            "Requirement already satisfied: six>=1.5 in /usr/local/lib/python3.12/dist-packages (from python-dateutil>=2.8.2->pandas<3.0,>=1.0->gradio) (1.17.0)\n",
            "Requirement already satisfied: markdown-it-py>=2.2.0 in /usr/local/lib/python3.12/dist-packages (from rich>=10.11.0->typer<1.0,>=0.12->gradio) (4.0.0)\n",
            "Requirement already satisfied: pygments<3.0.0,>=2.13.0 in /usr/local/lib/python3.12/dist-packages (from rich>=10.11.0->typer<1.0,>=0.12->gradio) (2.19.2)\n",
            "Requirement already satisfied: charset_normalizer<4,>=2 in /usr/local/lib/python3.12/dist-packages (from requests->huggingface-hub<1.0,>=0.33.5->gradio) (3.4.3)\n",
            "Requirement already satisfied: urllib3<3,>=1.21.1 in /usr/local/lib/python3.12/dist-packages (from requests->huggingface-hub<1.0,>=0.33.5->gradio) (2.5.0)\n",
            "Requirement already satisfied: mdurl~=0.1 in /usr/local/lib/python3.12/dist-packages (from markdown-it-py>=2.2.0->rich>=10.11.0->typer<1.0,>=0.12->gradio) (0.1.2)\n"
          ]
        }
      ],
      "source": [
        "import torch\n",
        "from torchvision import datasets, transforms\n",
        "from torch.utils.data import DataLoader\n",
        "import torch.nn as nn\n",
        "\n",
        "!pip install gradio\n",
        "import gradio as gr"
      ]
    },
    {
      "cell_type": "code",
      "execution_count": null,
      "metadata": {
        "colab": {
          "base_uri": "https://localhost:8080/"
        },
        "id": "c9dS1XkjkJZJ",
        "outputId": "a9d8af1d-2a05-4c45-d055-6e58b3b0a7b7"
      },
      "outputs": [
        {
          "output_type": "stream",
          "name": "stdout",
          "text": [
            "True\n"
          ]
        }
      ],
      "source": [
        "print(torch.cuda.is_available())\n",
        "device = 'cuda'"
      ]
    },
    {
      "cell_type": "code",
      "execution_count": null,
      "metadata": {
        "id": "6zp-lifDkJba"
      },
      "outputs": [],
      "source": [
        "transform = transforms.ToTensor()\n",
        "\n",
        "training = datasets.MNIST('./data', train=True, download=True, transform=transform)\n",
        "testing = datasets.MNIST('./data', train=False, download=True, transform=transform)"
      ]
    },
    {
      "cell_type": "code",
      "execution_count": null,
      "metadata": {
        "id": "dSIaZeKyRBSt"
      },
      "outputs": [],
      "source": [
        "from torch.utils.data import random_split\n",
        "\n",
        "train_set, dev_set = random_split(training, [50000, 10000])"
      ]
    },
    {
      "cell_type": "code",
      "execution_count": null,
      "metadata": {
        "id": "-hjrghTLkJdz"
      },
      "outputs": [],
      "source": [
        "training_loader = DataLoader(train_set, batch_size=32, shuffle=True)\n",
        "dev_loader = DataLoader(dev_set, batch_size=32)\n",
        "testing_loader = DataLoader(testing, batch_size=32)"
      ]
    },
    {
      "cell_type": "code",
      "execution_count": null,
      "metadata": {
        "id": "HtjAO-1OkJgG"
      },
      "outputs": [],
      "source": [
        "class NeuralNetwork(nn.Module):\n",
        "    def __init__(self, input_size, hidden_layers, output_size, dropout=0.0):\n",
        "        super().__init__()\n",
        "        self.layers = [input_size] + hidden_layers + [output_size]\n",
        "        self.network_layers = nn.ModuleList()\n",
        "        self.relu = nn.ReLU()\n",
        "        self.dropout_prob = dropout\n",
        "        self.dropout = nn.Dropout(self.dropout_prob)\n",
        "\n",
        "        for i in range(len(self.layers)-1):\n",
        "            self.network_layers.append(nn.Linear(self.layers[i], self.layers[i+1]))\n",
        "\n",
        "    def forward(self, x):\n",
        "        for i in range(len(self.network_layers)-1): # all layers except output\n",
        "            x = self.network_layers[i](x)\n",
        "            x = self.relu(x)\n",
        "            x = self.dropout(x)\n",
        "\n",
        "        #output\n",
        "        x = self.network_layers[-1](x)\n",
        "        return x"
      ]
    },
    {
      "cell_type": "code",
      "execution_count": null,
      "metadata": {
        "colab": {
          "base_uri": "https://localhost:8080/"
        },
        "id": "hT_BwRIplU_D",
        "outputId": "42c93d9d-dee5-4f8b-d91b-fd4f68ca7b38"
      },
      "outputs": [
        {
          "output_type": "stream",
          "name": "stdout",
          "text": [
            "[784, 256, 64, 10]\n"
          ]
        }
      ],
      "source": [
        "net = NeuralNetwork(784, [256, 64], 10, dropout=0.3).cuda()\n",
        "print(net.layers)"
      ]
    },
    {
      "cell_type": "code",
      "execution_count": null,
      "metadata": {
        "id": "tgTsky-SShkV"
      },
      "outputs": [],
      "source": [
        "def dataset_accuracy(model, loader):\n",
        "    model.eval()\n",
        "    with torch.no_grad():\n",
        "        correct_predictions = 0\n",
        "        for X, y in loader:\n",
        "\n",
        "            X = X.reshape(-1, 784).cuda()\n",
        "            y = y.cuda()\n",
        "\n",
        "            output = model(X)\n",
        "            correct_predictions += torch.sum(torch.max(output, 1)[1] == y).item()\n",
        "        model.train()\n",
        "        return correct_predictions / len(loader.dataset)"
      ]
    },
    {
      "cell_type": "code",
      "execution_count": 62,
      "metadata": {
        "colab": {
          "base_uri": "https://localhost:8080/"
        },
        "id": "czrDSz8-qcss",
        "outputId": "8b33ad02-b6e9-4238-b058-0dbf328decd4"
      },
      "outputs": [
        {
          "output_type": "stream",
          "name": "stdout",
          "text": [
            "epoch: 1  loss = 0.03915357112632996, training accuracy = 0.9875, dev accuracy = 0.9824\n",
            "epoch: 2  loss = 0.0324257030130557, training accuracy = 0.99008, dev accuracy = 0.9827\n",
            "epoch: 3  loss = 0.030341454369501763, training accuracy = 0.9909, dev accuracy = 0.9842\n",
            "epoch: 4  loss = 0.027946078712111716, training accuracy = 0.9919, dev accuracy = 0.9832\n",
            "epoch: 5  loss = 0.026045890641128732, training accuracy = 0.9922, dev accuracy = 0.9834\n",
            "epoch: 6  loss = 0.02377132513007028, training accuracy = 0.99268, dev accuracy = 0.9834\n",
            "epoch: 7  loss = 0.024172045434145847, training accuracy = 0.99256, dev accuracy = 0.9843\n",
            "epoch: 8  loss = 0.0224080733265371, training accuracy = 0.993, dev accuracy = 0.9841\n",
            "epoch: 9  loss = 0.022751038702191716, training accuracy = 0.9927, dev accuracy = 0.9829\n",
            "epoch: 10  loss = 0.021441109685589405, training accuracy = 0.99338, dev accuracy = 0.9831\n",
            "epoch: 11  loss = 0.021902205593261247, training accuracy = 0.99338, dev accuracy = 0.9838\n",
            "epoch: 12  loss = 0.019873936355584113, training accuracy = 0.9942, dev accuracy = 0.9834\n",
            "epoch: 13  loss = 0.019741359509334252, training accuracy = 0.9939, dev accuracy = 0.9832\n",
            "epoch: 14  loss = 0.020619024869143895, training accuracy = 0.9938, dev accuracy = 0.9834\n",
            "epoch: 15  loss = 0.019789692044485996, training accuracy = 0.99426, dev accuracy = 0.9842\n",
            "epoch: 16  loss = 0.01797743039792402, training accuracy = 0.99512, dev accuracy = 0.9831\n",
            "epoch: 17  loss = 0.020042523479014883, training accuracy = 0.99406, dev accuracy = 0.9838\n",
            "epoch: 18  loss = 0.01870318410206218, training accuracy = 0.99466, dev accuracy = 0.9836\n",
            "epoch: 19  loss = 0.018622452883093304, training accuracy = 0.99426, dev accuracy = 0.9835\n",
            "epoch: 20  loss = 0.01732559797253082, training accuracy = 0.99516, dev accuracy = 0.9834\n",
            "------------------\n",
            "Test set accuracy = 0.9846\n"
          ]
        }
      ],
      "source": [
        "import torch.optim\n",
        "\n",
        "loss_function = nn.CrossEntropyLoss()\n",
        "optimizer = torch.optim.AdamW(net.parameters(), lr=0.0001, weight_decay=0.06)\n",
        "\n",
        "\n",
        "epochs = 20\n",
        "for epoch in range(epochs):\n",
        "\n",
        "    epoch_loss = 0\n",
        "    correct_predictions = 0\n",
        "\n",
        "    for X, y in training_loader:\n",
        "\n",
        "        X = X.reshape(-1, 784).cuda()\n",
        "        y = y.cuda()\n",
        "\n",
        "        optimizer.zero_grad()\n",
        "        output = net(X)\n",
        "        loss = loss_function(output, y)\n",
        "        loss.backward()\n",
        "        optimizer.step()\n",
        "\n",
        "        epoch_loss += loss.item()\n",
        "        correct_predictions += torch.sum(torch.max(output, dim=1)[1] == y).item()\n",
        "\n",
        "    loss_score = epoch_loss/len(training_loader)\n",
        "    training_accuracy = correct_predictions/len(training_loader.dataset)\n",
        "    dev_accuracy = dataset_accuracy(net, dev_loader)\n",
        "\n",
        "    print(f\"epoch: {epoch+1}  loss = {loss_score}, training accuracy = {training_accuracy}, dev accuracy = {dev_accuracy}\")\n",
        "\n",
        "print('------------------')\n",
        "print(f'Test set accuracy = {dataset_accuracy(net, testing_loader)}')"
      ]
    },
    {
      "cell_type": "code",
      "execution_count": 63,
      "metadata": {
        "colab": {
          "base_uri": "https://localhost:8080/",
          "height": 424
        },
        "id": "Cp-PUZ1xVs5O",
        "outputId": "3cf9fec7-f0f7-4f39-bbbf-3a0b11fd8fbc"
      },
      "outputs": [
        {
          "output_type": "display_data",
          "data": {
            "text/plain": [
              "<Figure size 2000x600 with 10 Axes>"
            ],
            "image/png": "[encoded data removed]"
          },
          "metadata": {}
        }
      ],
      "source": [
        "import matplotlib.pyplot as plt\n",
        "import numpy as np\n",
        "\n",
        "def visualize_mnist(model, loader, num_images = 5):\n",
        "    random_choices = np.random.randint(1, 10000, size=num_images)\n",
        "\n",
        "    images_list = []\n",
        "    labels_list = []\n",
        "    predictions_list = []\n",
        "    probability_distributions_list = []\n",
        "\n",
        "    model.eval()\n",
        "    with torch.no_grad():\n",
        "        for choice in random_choices:\n",
        "            X, y = loader.dataset[choice]\n",
        "            X = X.reshape(-1, 784).to('cuda:0')\n",
        "\n",
        "            logits = model(X)\n",
        "\n",
        "            _, pred = torch.max(logits, 1)\n",
        "            predictions_list.append(pred.item())\n",
        "\n",
        "            probability_distributions_list.append(torch.softmax(logits, 1))\n",
        "\n",
        "            images_list.append(X.cpu())\n",
        "            labels_list.append(y)\n",
        "\n",
        "    fig, axes = plt.subplots(2, num_images, figsize=(20, 6))\n",
        "    for i in range(num_images):\n",
        "        axes[0, i].imshow(images_list[i].reshape(28,28), cmap='gray')\n",
        "        axes[0, i].axis('off')\n",
        "        axes[0, i].set_title(f'true: {labels_list[i]}\\npredicted: {predictions_list[i]}')\n",
        "        axes[1, i].bar(x=np.arange(10), height=probability_distributions_list[i].cpu().numpy().squeeze())\n",
        "        axes[1, i].set_xticks(np.arange(10))\n",
        "        axes[1, i].set_yticks(np.linspace(0.0, 1, 11))\n",
        "\n",
        "    model.train()\n",
        "    plt.show()\n",
        "visualize_mnist(net, testing_loader)"
      ]
    },
    {
      "cell_type": "code",
      "source": [
        "#save the model\n",
        "# torch.save(net, 'trained_model.pth')"
      ],
      "metadata": {
        "id": "yTM4uMqIukuc"
      },
      "execution_count": null,
      "outputs": []
    },
    {
      "cell_type": "code",
      "source": [
        "#load the model (from github)\n",
        "# torch.load('trained_model.pth', weights_only=False)"
      ],
      "metadata": {
        "colab": {
          "base_uri": "https://localhost:8080/"
        },
        "id": "A5YGbzBo5SMX",
        "outputId": "936899d8-1887-460b-90b5-4488a1f35343"
      },
      "execution_count": null,
      "outputs": [
        {
          "output_type": "execute_result",
          "data": {
            "text/plain": [
              "NeuralNetwork(\n",
              "  (network_layers): ModuleList(\n",
              "    (0): Linear(in_features=784, out_features=256, bias=True)\n",
              "    (1): Linear(in_features=256, out_features=64, bias=True)\n",
              "    (2): Linear(in_features=64, out_features=10, bias=True)\n",
              "  )\n",
              "  (relu): ReLU()\n",
              "  (dropout): Dropout(p=0.3, inplace=False)\n",
              ")"
            ]
          },
          "metadata": {},
          "execution_count": 24
        }
      ]
    },
    {
      "cell_type": "code",
      "source": [
        "import gradio as gr\n",
        "from PIL import Image\n",
        "\n",
        "def predict(img):\n",
        "    # print(img.keys())\n",
        "\n",
        "    if isinstance(img, dict):\n",
        "        img = img[\"composite\"]\n",
        "\n",
        "    if img is None:\n",
        "        return {str(i): 0.0 for i in range(10)}\n",
        "\n",
        "\n",
        "    pil = Image.fromarray(img)\n",
        "    pil = pil.resize((28, 28)).convert('L')\n",
        "    image = np.array(pil, dtype=np.float32) / 255.0\n",
        "    image = image.reshape(-1, 28*28)\n",
        "\n",
        "    image = 1.0 - image\n",
        "\n",
        "\n",
        "    with torch.no_grad():\n",
        "        net.eval()\n",
        "\n",
        "        output = net(torch.from_numpy(image).cuda())\n",
        "        prediction = torch.softmax(output, 1).cpu().numpy()[0]\n",
        "\n",
        "        net.train()\n",
        "\n",
        "\n",
        "    return {str(i): float(prediction[i]) for i in range(10)}"
      ],
      "metadata": {
        "id": "9mY92Cb96S57"
      },
      "execution_count": null,
      "outputs": []
    },
    {
      "cell_type": "code",
      "source": [
        "demo = gr.Interface(fn=predict, inputs=gr.Sketchpad(), outputs=gr.Label(num_top_classes=10), live=True)\n",
        "demo.launch(share=True, debug=False)"
      ],
      "metadata": {
        "colab": {
          "base_uri": "https://localhost:8080/",
          "height": 608
        },
        "id": "7godMtZM565p",
        "outputId": "113e30e4-4fbc-48ea-b17d-413a23a72558"
      },
      "execution_count": 64,
      "outputs": [
        {
          "output_type": "stream",
          "name": "stdout",
          "text": [
            "Colab notebook detected. To show errors in colab notebook, set debug=True in launch()\n",
            "* Running on public URL: https://de57fd77682d5b9dad.gradio.live\n",
            "\n",
            "This share link expires in 1 week. For free permanent hosting and GPU upgrades, run `gradio deploy` from the terminal in the working directory to deploy to Hugging Face Spaces (https://huggingface.co/spaces)\n"
          ]
        },
        {
          "output_type": "display_data",
          "data": {
            "text/plain": [
              "<IPython.core.display.HTML object>"
            ],
            "text/html": [
              "<div><iframe src=\"https://de57fd77682d5b9dad.gradio.live\" width=\"100%\" height=\"500\" allow=\"autoplay; camera; microphone; clipboard-read; clipboard-write;\" frameborder=\"0\" allowfullscreen></iframe></div>"
            ]
          },
          "metadata": {}
        },
        {
          "output_type": "execute_result",
          "data": {
            "text/plain": []
          },
          "metadata": {},
          "execution_count": 64
        }
      ]
    }
  ],
  "metadata": {
    "accelerator": "GPU",
    "colab": {
      "gpuType": "T4",
      "provenance": [],
      "authorship_tag": "ABX9TyMfDKVvT/I6KEA4CjeeOtrC",
      "include_colab_link": true
    },
    "kernelspec": {
      "display_name": "Python 3",
      "name": "python3"
    },
    "language_info": {
      "name": "python"
    }
  },
  "nbformat": 4,
  "nbformat_minor": 0
}