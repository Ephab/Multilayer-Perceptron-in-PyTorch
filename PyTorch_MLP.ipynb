{
  "cells": [
    {
      "cell_type": "code",
      "execution_count": 368,
      "metadata": {
        "id": "iPhZYIVDkJWs"
      },
      "outputs": [],
      "source": [
        "import torch\n",
        "from torchvision import datasets, transforms\n",
        "from torch.utils.data import DataLoader\n",
        "import torch.nn as nn"
      ]
    },
    {
      "cell_type": "code",
      "execution_count": 369,
      "metadata": {
        "colab": {
          "base_uri": "https://localhost:8080/"
        },
        "id": "c9dS1XkjkJZJ",
        "outputId": "5445e2fa-473e-48c6-8546-de3827081537"
      },
      "outputs": [
        {
          "output_type": "stream",
          "name": "stdout",
          "text": [
            "True\n"
          ]
        }
      ],
      "source": [
        "print(torch.cuda.is_available())\n",
        "device = 'cuda'"
      ]
    },
    {
      "cell_type": "code",
      "execution_count": 370,
      "metadata": {
        "id": "6zp-lifDkJba"
      },
      "outputs": [],
      "source": [
        "transform = transforms.ToTensor()\n",
        "\n",
        "training = datasets.MNIST('./data', train=True, download=True, transform=transform)\n",
        "testing = datasets.MNIST('./data', train=False, download=True, transform=transform)"
      ]
    },
    {
      "cell_type": "code",
      "execution_count": 371,
      "metadata": {
        "id": "dSIaZeKyRBSt"
      },
      "outputs": [],
      "source": [
        "from torch.utils.data import random_split\n",
        "\n",
        "train_set, dev_set = random_split(training, [50000, 10000])"
      ]
    },
    {
      "cell_type": "code",
      "execution_count": 372,
      "metadata": {
        "id": "-hjrghTLkJdz"
      },
      "outputs": [],
      "source": [
        "training_loader = DataLoader(train_set, batch_size=32, shuffle=True)\n",
        "dev_loader = DataLoader(dev_set, batch_size=32)\n",
        "testing_loader = DataLoader(testing, batch_size=32)"
      ]
    },
    {
      "cell_type": "code",
      "execution_count": 373,
      "metadata": {
        "id": "HtjAO-1OkJgG"
      },
      "outputs": [],
      "source": [
        "class NeuralNetwork(nn.Module):\n",
        "    def __init__(self, input_size, hidden_layers, output_size, dropout=0.0):\n",
        "        super().__init__()\n",
        "        self.layers = [input_size] + hidden_layers + [output_size]\n",
        "        self.network_layers = nn.ModuleList()\n",
        "        self.relu = nn.ReLU()\n",
        "        self.dropout_prob = dropout\n",
        "        self.dropout = nn.Dropout(self.dropout_prob)\n",
        "\n",
        "        for i in range(len(self.layers)-1):\n",
        "            self.network_layers.append(nn.Linear(self.layers[i], self.layers[i+1]))\n",
        "\n",
        "    def forward(self, x):\n",
        "        for i in range(len(self.network_layers)-1): # all layers except output\n",
        "            x = self.network_layers[i](x)\n",
        "            x = self.relu(x)\n",
        "            x = self.dropout(x)\n",
        "\n",
        "        #output\n",
        "        x = self.network_layers[-1](x)\n",
        "        return x"
      ]
    },
    {
      "cell_type": "code",
      "execution_count": 374,
      "metadata": {
        "colab": {
          "base_uri": "https://localhost:8080/"
        },
        "id": "hT_BwRIplU_D",
        "outputId": "ce2feb0e-140a-4edb-a5a4-50dc9cc53231"
      },
      "outputs": [
        {
          "output_type": "stream",
          "name": "stdout",
          "text": [
            "[784, 256, 10]\n"
          ]
        }
      ],
      "source": [
        "net = NeuralNetwork(784, [256], 10, dropout=0.3).cuda()\n",
        "print(net.layers)"
      ]
    },
    {
      "cell_type": "code",
      "execution_count": 375,
      "metadata": {
        "id": "tgTsky-SShkV"
      },
      "outputs": [],
      "source": [
        "def dataset_accuracy(model, loader):\n",
        "    model.eval()\n",
        "    with torch.no_grad():\n",
        "        correct_predictions = 0\n",
        "        for X, y in loader:\n",
        "\n",
        "            X = X.reshape(-1, 784).cuda()\n",
        "            y = y.cuda()\n",
        "\n",
        "            output = model(X)\n",
        "            correct_predictions += torch.sum(torch.max(output, 1)[1] == y).item()\n",
        "        model.train()\n",
        "        return correct_predictions / len(loader.dataset)"
      ]
    },
    {
      "cell_type": "code",
      "execution_count": 376,
      "metadata": {
        "colab": {
          "base_uri": "https://localhost:8080/"
        },
        "id": "czrDSz8-qcss",
        "outputId": "6fb65512-b456-418b-fc1d-ae4c7148e11a"
      },
      "outputs": [
        {
          "output_type": "stream",
          "name": "stdout",
          "text": [
            "epoch: 1  loss = 0.320162904234895, training accuracy = 0.90948, dev accuracy = 0.9537\n",
            "epoch: 2  loss = 0.1496637328328256, training accuracy = 0.95622, dev accuracy = 0.964\n",
            "epoch: 3  loss = 0.11424711587232843, training accuracy = 0.9673, dev accuracy = 0.9696\n",
            "epoch: 4  loss = 0.09537844897545183, training accuracy = 0.97062, dev accuracy = 0.973\n",
            "epoch: 5  loss = 0.08202099788371504, training accuracy = 0.97478, dev accuracy = 0.9729\n",
            "epoch: 6  loss = 0.07258969130142284, training accuracy = 0.97696, dev accuracy = 0.9758\n",
            "epoch: 7  loss = 0.06676495515697314, training accuracy = 0.97858, dev accuracy = 0.9727\n",
            "epoch: 8  loss = 0.06225544194220455, training accuracy = 0.98062, dev accuracy = 0.9764\n",
            "epoch: 9  loss = 0.05685943241442076, training accuracy = 0.98232, dev accuracy = 0.9772\n",
            "epoch: 10  loss = 0.05517310564343949, training accuracy = 0.98274, dev accuracy = 0.9784\n",
            "epoch: 11  loss = 0.05180933674574268, training accuracy = 0.9834, dev accuracy = 0.9766\n",
            "epoch: 12  loss = 0.05007694994112249, training accuracy = 0.98388, dev accuracy = 0.9769\n",
            "epoch: 13  loss = 0.04932350568839493, training accuracy = 0.9847, dev accuracy = 0.9798\n",
            "epoch: 14  loss = 0.047115926716691334, training accuracy = 0.98476, dev accuracy = 0.9774\n",
            "epoch: 15  loss = 0.04304650162900211, training accuracy = 0.98626, dev accuracy = 0.9794\n",
            "epoch: 16  loss = 0.045070042189900954, training accuracy = 0.98572, dev accuracy = 0.979\n",
            "epoch: 17  loss = 0.043067103595735345, training accuracy = 0.98646, dev accuracy = 0.9789\n",
            "epoch: 18  loss = 0.04203879464666019, training accuracy = 0.9867, dev accuracy = 0.9774\n",
            "epoch: 19  loss = 0.04104335651474454, training accuracy = 0.98632, dev accuracy = 0.9785\n",
            "epoch: 20  loss = 0.041893941254273974, training accuracy = 0.98704, dev accuracy = 0.9783\n",
            "------------------\n",
            "Test set accuracy = 0.9824\n"
          ]
        }
      ],
      "source": [
        "import torch.optim\n",
        "\n",
        "loss_function = nn.CrossEntropyLoss()\n",
        "optimizer = torch.optim.AdamW(net.parameters(), lr=0.001, weight_decay=0.06)\n",
        "\n",
        "\n",
        "epochs = 20\n",
        "for epoch in range(epochs):\n",
        "\n",
        "    epoch_loss = 0\n",
        "    correct_predictions = 0\n",
        "\n",
        "    for X, y in training_loader:\n",
        "\n",
        "        X = X.reshape(-1, 784).cuda()\n",
        "        y = y.cuda()\n",
        "\n",
        "        optimizer.zero_grad()\n",
        "        output = net(X)\n",
        "        loss = loss_function(output, y)\n",
        "        loss.backward()\n",
        "        optimizer.step()\n",
        "\n",
        "        epoch_loss += loss.item()\n",
        "        correct_predictions += torch.sum(torch.max(output, dim=1)[1] == y).item()\n",
        "\n",
        "    loss_score = epoch_loss/len(training_loader)\n",
        "    training_accuracy = correct_predictions/len(training_loader.dataset)\n",
        "    dev_accuracy = dataset_accuracy(net, dev_loader)\n",
        "\n",
        "    print(f\"epoch: {epoch+1}  loss = {loss_score}, training accuracy = {training_accuracy}, dev accuracy = {dev_accuracy}\")\n",
        "\n",
        "print('------------------')\n",
        "print(f'Test set accuracy = {dataset_accuracy(net, testing_loader)}')"
      ]
    },
    {
      "cell_type": "code",
      "execution_count": 377,
      "metadata": {
        "colab": {
          "base_uri": "https://localhost:8080/",
          "height": 424
        },
        "id": "Cp-PUZ1xVs5O",
        "outputId": "ef8fca59-aac3-4332-b68e-c752601b937e"
      },
      "outputs": [
        {
          "output_type": "display_data",
          "data": {
            "text/plain": [
              "<Figure size 2000x600 with 10 Axes>"
            ],
            "image/png": "[encoded data removed]"
          },
          "metadata": {}
        }
      ],
      "source": [
        "import matplotlib.pyplot as plt\n",
        "import numpy as np\n",
        "\n",
        "def visualize_mnist(model, loader, num_images = 5):\n",
        "    random_choices = np.random.randint(1, 10000, size=num_images)\n",
        "\n",
        "    images_list = []\n",
        "    labels_list = []\n",
        "    predictions_list = []\n",
        "    probability_distributions_list = []\n",
        "\n",
        "    model.eval()\n",
        "    with torch.no_grad():\n",
        "        for choice in random_choices:\n",
        "            X, y = loader.dataset[choice]\n",
        "            X = X.reshape(-1, 784).to('cuda:0')\n",
        "\n",
        "            logits = model(X)\n",
        "\n",
        "            _, pred = torch.max(logits, 1)\n",
        "            predictions_list.append(pred.item())\n",
        "\n",
        "            probability_distributions_list.append(torch.softmax(logits, 1))\n",
        "\n",
        "            images_list.append(X.cpu())\n",
        "            labels_list.append(y)\n",
        "\n",
        "    fig, axes = plt.subplots(2, num_images, figsize=(20, 6))\n",
        "    for i in range(num_images):\n",
        "        axes[0, i].imshow(images_list[i].reshape(28,28), cmap='gray')\n",
        "        axes[0, i].axis('off')\n",
        "        axes[0, i].set_title(f'true: {labels_list[i]}\\npredicted: {predictions_list[i]}')\n",
        "        axes[1, i].bar(x=np.arange(10), height=probability_distributions_list[i].cpu().numpy().squeeze())\n",
        "        axes[1, i].set_xticks(np.arange(10))\n",
        "        axes[1, i].set_yticks(np.linspace(0.0, 1, 11))\n",
        "\n",
        "    model.train()\n",
        "    plt.show()\n",
        "visualize_mnist(net, testing_loader)"
      ]
    }
  ],
  "metadata": {
    "accelerator": "GPU",
    "colab": {
      "gpuType": "T4",
      "provenance": [],
      "authorship_tag": "ABX9TyNUdRRma9ULe+YVRwhpOCgs"
    },
    "kernelspec": {
      "display_name": "Python 3",
      "name": "python3"
    },
    "language_info": {
      "name": "python"
    }
  },
  "nbformat": 4,
  "nbformat_minor": 0
}