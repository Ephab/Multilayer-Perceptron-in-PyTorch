{
  "nbformat": 4,
  "nbformat_minor": 0,
  "metadata": {
    "colab": {
      "provenance": [],
      "gpuType": "T4",
      "authorship_tag": "ABX9TyOlGY8QdaUpYQELbIopHUBX"
    },
    "kernelspec": {
      "name": "python3",
      "display_name": "Python 3"
    },
    "language_info": {
      "name": "python"
    },
    "accelerator": "GPU"
  },
  "cells": [
    {
      "cell_type": "code",
      "source": [
        "import torch\n",
        "from torchvision import datasets, transforms\n",
        "from torch.utils.data import DataLoader\n",
        "import torch.nn as nn"
      ],
      "metadata": {
        "id": "iPhZYIVDkJWs"
      },
      "execution_count": 177,
      "outputs": []
    },
    {
      "cell_type": "code",
      "source": [
        "print(torch.cuda.is_available())\n",
        "device = 'cuda'"
      ],
      "metadata": {
        "colab": {
          "base_uri": "https://localhost:8080/"
        },
        "id": "c9dS1XkjkJZJ",
        "outputId": "abe6e734-7ad8-4f3f-cb53-973e628109e9"
      },
      "execution_count": 178,
      "outputs": [
        {
          "output_type": "stream",
          "name": "stdout",
          "text": [
            "True\n"
          ]
        }
      ]
    },
    {
      "cell_type": "code",
      "source": [
        "transform = transforms.ToTensor()\n",
        "\n",
        "training = datasets.MNIST('./data', train=True, download=True, transform=transform)\n",
        "testing = datasets.MNIST('./data', train=False, download=True, transform=transform)"
      ],
      "metadata": {
        "id": "6zp-lifDkJba"
      },
      "execution_count": 179,
      "outputs": []
    },
    {
      "cell_type": "code",
      "source": [
        "from torch.utils.data import random_split\n",
        "\n",
        "train_set, dev_set = random_split(training, [50000, 10000])"
      ],
      "metadata": {
        "id": "dSIaZeKyRBSt"
      },
      "execution_count": 180,
      "outputs": []
    },
    {
      "cell_type": "code",
      "source": [
        "training_loader = DataLoader(train_set, batch_size=32, shuffle=True)\n",
        "dev_loader = DataLoader(dev_set, batch_size=32)\n",
        "testing_loader = DataLoader(testing, batch_size=32)"
      ],
      "metadata": {
        "id": "-hjrghTLkJdz"
      },
      "execution_count": 181,
      "outputs": []
    },
    {
      "cell_type": "code",
      "source": [
        "class NeuralNetwork(nn.Module):\n",
        "    def __init__(self, input_size, hidden_layers, output_size):\n",
        "        super().__init__()\n",
        "        self.layers = [input_size] + hidden_layers + [output_size]\n",
        "        self.network_layers = nn.ModuleList()\n",
        "        self.relu = nn.ReLU()\n",
        "\n",
        "        for i in range(len(self.layers)-1):\n",
        "            self.network_layers.append(nn.Linear(self.layers[i], self.layers[i+1]))\n",
        "\n",
        "    def forward(self, x):\n",
        "        for i in range(len(self.network_layers)-1): # all layers except output\n",
        "            x = self.network_layers[i](x)\n",
        "            x = self.relu(x)\n",
        "        #output\n",
        "        x = self.network_layers[-1](x)\n",
        "        return x"
      ],
      "metadata": {
        "id": "HtjAO-1OkJgG"
      },
      "execution_count": 182,
      "outputs": []
    },
    {
      "cell_type": "code",
      "source": [
        "net = NeuralNetwork(784, [256], 10).cuda()\n",
        "print(net.layers)"
      ],
      "metadata": {
        "colab": {
          "base_uri": "https://localhost:8080/"
        },
        "id": "hT_BwRIplU_D",
        "outputId": "413fb3ff-2725-4e3b-f598-6fa150437441"
      },
      "execution_count": 183,
      "outputs": [
        {
          "output_type": "stream",
          "name": "stdout",
          "text": [
            "[784, 256, 10]\n"
          ]
        }
      ]
    },
    {
      "cell_type": "code",
      "source": [
        "def dataset_accuracy(model, loader):\n",
        "    model.eval()\n",
        "    with torch.no_grad():\n",
        "        correct_predictions = 0\n",
        "        for X, y in loader:\n",
        "\n",
        "            X = X.reshape(-1, 784).cuda()\n",
        "            y = y.cuda()\n",
        "\n",
        "            output = model(X)\n",
        "            correct_predictions += torch.sum(torch.max(output, 1)[1] == y).item()\n",
        "        model.train()\n",
        "        return correct_predictions / len(loader.dataset)"
      ],
      "metadata": {
        "id": "tgTsky-SShkV"
      },
      "execution_count": 184,
      "outputs": []
    },
    {
      "cell_type": "code",
      "source": [
        "import torch.optim\n",
        "\n",
        "loss_function = nn.CrossEntropyLoss()\n",
        "optimizer = torch.optim.Adam(net.parameters(), lr=0.001)\n",
        "\n",
        "\n",
        "epochs = 10\n",
        "for epoch in range(epochs):\n",
        "\n",
        "    epoch_loss = 0\n",
        "    correct_predictions = 0\n",
        "\n",
        "    for X, y in training_loader:\n",
        "\n",
        "        X = X.reshape(-1, 784).cuda()\n",
        "        y = y.cuda()\n",
        "\n",
        "        optimizer.zero_grad()\n",
        "        output = net(X)\n",
        "        loss = loss_function(output, y)\n",
        "        loss.backward()\n",
        "        optimizer.step()\n",
        "\n",
        "        epoch_loss += loss.item()\n",
        "        correct_predictions += torch.sum(torch.max(output, dim=1)[1] == y).item()\n",
        "\n",
        "    loss_score = epoch_loss/len(training_loader)\n",
        "    training_accuracy = correct_predictions/len(training_loader.dataset)\n",
        "    dev_accuracy = dataset_accuracy(net, dev_loader)\n",
        "\n",
        "    print(f\"epoch: {epoch+1}  loss = {loss_score}, training accuracy = {training_accuracy}, dev accuracy = {dev_accuracy}\")\n",
        "\n",
        "print('------------------')\n",
        "print(f'Test set accuracy = {dataset_accuracy(net, testing_loader)}')"
      ],
      "metadata": {
        "colab": {
          "base_uri": "https://localhost:8080/"
        },
        "id": "czrDSz8-qcss",
        "outputId": "693792c5-250c-4275-dfda-e9376f518bbb"
      },
      "execution_count": 185,
      "outputs": [
        {
          "output_type": "stream",
          "name": "stdout",
          "text": [
            "epoch: 1  loss = 0.2744993265618118, training accuracy = 0.92132, dev accuracy = 0.9579\n",
            "epoch: 2  loss = 0.11222708852239482, training accuracy = 0.96638, dev accuracy = 0.9672\n",
            "epoch: 3  loss = 0.07280453393814974, training accuracy = 0.97858, dev accuracy = 0.9748\n",
            "epoch: 4  loss = 0.05470272211834785, training accuracy = 0.98312, dev accuracy = 0.9767\n",
            "epoch: 5  loss = 0.039427189923428425, training accuracy = 0.98774, dev accuracy = 0.9785\n",
            "epoch: 6  loss = 0.02934659968609731, training accuracy = 0.99094, dev accuracy = 0.9784\n",
            "epoch: 7  loss = 0.022920542332746034, training accuracy = 0.99298, dev accuracy = 0.9779\n",
            "epoch: 8  loss = 0.017281454610703118, training accuracy = 0.99518, dev accuracy = 0.9808\n",
            "epoch: 9  loss = 0.015822990708298176, training accuracy = 0.99516, dev accuracy = 0.9804\n",
            "epoch: 10  loss = 0.011320926309271529, training accuracy = 0.99646, dev accuracy = 0.979\n",
            "------------------\n",
            "Test set accuracy = 0.9776\n"
          ]
        }
      ]
    },
    {
      "cell_type": "code",
      "source": [
        "# import matplotlib.pyplot as plt\n",
        "# import numpy as np\n",
        "\n",
        "# def visualize_mnist(loader, num_images = 5):\n",
        "\n",
        "#     random_choices = np.random.randint(1, 60000, size=num_images)\n",
        "\n",
        "#     features_list = []\n",
        "#     labels_list = []\n",
        "\n",
        "#     for choice in random_choices:\n",
        "#         X, y = loader[choice]\n",
        "#         X = X.reshape(-1, 784)\n",
        "\n",
        "#         features_list.append(X)\n",
        "#         labels_list.append(y)\n",
        "\n",
        "#     fig, axes = plt.subplots(2, num_images, figsize=(20, 6))\n",
        "#     for i in range(num_images):\n",
        "#         axes[0, i].imshow(X, cmap='gray')\n",
        "\n",
        "# visualize_mnist(testing_loader)"
      ],
      "metadata": {
        "id": "Cp-PUZ1xVs5O"
      },
      "execution_count": null,
      "outputs": []
    }
  ]
}