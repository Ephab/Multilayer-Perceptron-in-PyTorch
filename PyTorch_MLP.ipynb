{
  "cells": [
    {
      "cell_type": "code",
      "execution_count": 89,
      "metadata": {
        "id": "iPhZYIVDkJWs"
      },
      "outputs": [],
      "source": [
        "import torch\n",
        "from torchvision import datasets, transforms\n",
        "from torch.utils.data import DataLoader\n",
        "import torch.nn as nn\n",
        "\n",
        "# !pip install gradio\n",
        "import gradio as gr"
      ]
    },
    {
      "cell_type": "code",
      "execution_count": 90,
      "metadata": {
        "colab": {
          "base_uri": "https://localhost:8080/"
        },
        "id": "c9dS1XkjkJZJ",
        "outputId": "326e28dd-5211-4ae6-8817-fbc1e50c00b0"
      },
      "outputs": [
        {
          "output_type": "stream",
          "name": "stdout",
          "text": [
            "True\n"
          ]
        }
      ],
      "source": [
        "print(torch.cuda.is_available())\n",
        "device = 'cuda'"
      ]
    },
    {
      "cell_type": "code",
      "execution_count": 91,
      "metadata": {
        "id": "6zp-lifDkJba"
      },
      "outputs": [],
      "source": [
        "transform = transforms.ToTensor()\n",
        "\n",
        "training = datasets.MNIST('./data', train=True, download=True, transform=transform)\n",
        "testing = datasets.MNIST('./data', train=False, download=True, transform=transform)"
      ]
    },
    {
      "cell_type": "code",
      "execution_count": 92,
      "metadata": {
        "id": "dSIaZeKyRBSt"
      },
      "outputs": [],
      "source": [
        "from torch.utils.data import random_split\n",
        "\n",
        "train_set, dev_set = random_split(training, [50000, 10000])"
      ]
    },
    {
      "cell_type": "code",
      "execution_count": 93,
      "metadata": {
        "id": "-hjrghTLkJdz"
      },
      "outputs": [],
      "source": [
        "training_loader = DataLoader(train_set, batch_size=32, shuffle=True)\n",
        "dev_loader = DataLoader(dev_set, batch_size=32)\n",
        "testing_loader = DataLoader(testing, batch_size=32)"
      ]
    },
    {
      "cell_type": "code",
      "execution_count": 94,
      "metadata": {
        "id": "HtjAO-1OkJgG"
      },
      "outputs": [],
      "source": [
        "class NeuralNetwork(nn.Module):\n",
        "    def __init__(self, input_size, hidden_layers, output_size, dropout=0.0, batch_norm=True):\n",
        "        super().__init__()\n",
        "        self.layers = [input_size] + hidden_layers + [output_size]\n",
        "        self.network_layers = nn.ModuleList()\n",
        "        self.batch_norm_layers = nn.ModuleList()\n",
        "        self.batch_norm = batch_norm\n",
        "        self.relu = nn.ReLU()\n",
        "        self.dropout_prob = dropout\n",
        "        self.dropout = nn.Dropout(self.dropout_prob)\n",
        "\n",
        "        for i in range(len(self.layers)-1):\n",
        "            self.network_layers.append(nn.Linear(self.layers[i], self.layers[i+1]))\n",
        "            if batch_norm == True:\n",
        "                self.batch_norm_layers.append(nn.BatchNorm1d(self.layers[i+1]))\n",
        "\n",
        "    def forward(self, x):\n",
        "        for i in range(len(self.network_layers)-1): # all layers except output\n",
        "            x = self.network_layers[i](x)\n",
        "            if self.batch_norm:\n",
        "                x = self.batch_norm_layers[i](x)\n",
        "            x = self.relu(x)\n",
        "            x = self.dropout(x)\n",
        "\n",
        "        #output\n",
        "        x = self.network_layers[-1](x)\n",
        "        return x"
      ]
    },
    {
      "cell_type": "code",
      "execution_count": 95,
      "metadata": {
        "colab": {
          "base_uri": "https://localhost:8080/"
        },
        "id": "hT_BwRIplU_D",
        "outputId": "ab4a1c2b-db4b-417e-d7c3-0546da906d8e"
      },
      "outputs": [
        {
          "output_type": "stream",
          "name": "stdout",
          "text": [
            "[784, 256, 10]\n"
          ]
        }
      ],
      "source": [
        "net = NeuralNetwork(784, [256], 10, dropout=0.3, batch_norm=True).cuda()\n",
        "print(net.layers)"
      ]
    },
    {
      "cell_type": "code",
      "execution_count": 96,
      "metadata": {
        "id": "tgTsky-SShkV"
      },
      "outputs": [],
      "source": [
        "def dataset_accuracy(model, loader):\n",
        "    model.eval()\n",
        "\n",
        "    with torch.no_grad():\n",
        "        correct_predictions = 0\n",
        "        for X, y in loader:\n",
        "\n",
        "            X = X.reshape(-1, 784).cuda()\n",
        "            y = y.cuda()\n",
        "\n",
        "            output = model(X)\n",
        "            correct_predictions += torch.sum(torch.max(output, 1)[1] == y).item()\n",
        "\n",
        "        model.train()\n",
        "        return correct_predictions / len(loader.dataset)"
      ]
    },
    {
      "cell_type": "code",
      "execution_count": 97,
      "metadata": {
        "colab": {
          "base_uri": "https://localhost:8080/"
        },
        "id": "czrDSz8-qcss",
        "outputId": "5cf6e7ae-b1aa-4b3f-bea2-f920a6ac7056"
      },
      "outputs": [
        {
          "output_type": "stream",
          "name": "stdout",
          "text": [
            "epoch: 1  loss = 0.2890424564044615, training accuracy = 0.91692, dev accuracy = 0.9599\n",
            "epoch: 2  loss = 0.16554233085743067, training accuracy = 0.95176, dev accuracy = 0.9682\n",
            "epoch: 3  loss = 0.13723195586961312, training accuracy = 0.95902, dev accuracy = 0.9703\n",
            "epoch: 4  loss = 0.11719332644042588, training accuracy = 0.96506, dev accuracy = 0.973\n",
            "epoch: 5  loss = 0.1070253730251651, training accuracy = 0.96746, dev accuracy = 0.9741\n",
            "epoch: 6  loss = 0.1012510137947697, training accuracy = 0.96936, dev accuracy = 0.9748\n",
            "epoch: 7  loss = 0.09661371271010973, training accuracy = 0.97054, dev accuracy = 0.9746\n",
            "epoch: 8  loss = 0.08923686312789232, training accuracy = 0.97332, dev accuracy = 0.9768\n",
            "epoch: 9  loss = 0.08402769899613063, training accuracy = 0.97516, dev accuracy = 0.9781\n",
            "epoch: 10  loss = 0.08109976613824986, training accuracy = 0.9753, dev accuracy = 0.977\n",
            "epoch: 11  loss = 0.08024608795557908, training accuracy = 0.97594, dev accuracy = 0.9764\n",
            "epoch: 12  loss = 0.07614597865178947, training accuracy = 0.9775, dev accuracy = 0.9768\n",
            "epoch: 13  loss = 0.07671333218567783, training accuracy = 0.97662, dev accuracy = 0.9765\n",
            "epoch: 14  loss = 0.0760664948746705, training accuracy = 0.97702, dev accuracy = 0.9783\n",
            "epoch: 15  loss = 0.07384322468109157, training accuracy = 0.97728, dev accuracy = 0.9792\n",
            "epoch: 16  loss = 0.0722150160104003, training accuracy = 0.9774, dev accuracy = 0.9796\n",
            "epoch: 17  loss = 0.07148250203337747, training accuracy = 0.9778, dev accuracy = 0.9772\n",
            "epoch: 18  loss = 0.06726979472038651, training accuracy = 0.97982, dev accuracy = 0.9786\n",
            "epoch: 19  loss = 0.06882434581857477, training accuracy = 0.97886, dev accuracy = 0.9788\n",
            "epoch: 20  loss = 0.06683542866331912, training accuracy = 0.9803, dev accuracy = 0.9796\n",
            "------------------\n",
            "Test set accuracy = 0.98\n"
          ]
        }
      ],
      "source": [
        "import torch.optim\n",
        "\n",
        "loss_function = nn.CrossEntropyLoss()\n",
        "optimizer = torch.optim.AdamW(net.parameters(), lr=0.001, weight_decay=0.06)\n",
        "\n",
        "\n",
        "epochs = 20\n",
        "for epoch in range(epochs):\n",
        "\n",
        "    epoch_loss = 0\n",
        "    correct_predictions = 0\n",
        "\n",
        "    for X, y in training_loader:\n",
        "\n",
        "        X = X.reshape(-1, 784).cuda()\n",
        "        y = y.cuda()\n",
        "\n",
        "        optimizer.zero_grad()\n",
        "        output = net(X)\n",
        "        loss = loss_function(output, y)\n",
        "        loss.backward()\n",
        "        optimizer.step()\n",
        "\n",
        "        epoch_loss += loss.item()\n",
        "        correct_predictions += torch.sum(torch.max(output, dim=1)[1] == y).item()\n",
        "\n",
        "    loss_score = epoch_loss/len(training_loader)\n",
        "    training_accuracy = correct_predictions/len(training_loader.dataset)\n",
        "    dev_accuracy = dataset_accuracy(net, dev_loader)\n",
        "\n",
        "    print(f\"epoch: {epoch+1}  loss = {loss_score}, training accuracy = {training_accuracy}, dev accuracy = {dev_accuracy}\")\n",
        "\n",
        "print('------------------')\n",
        "print(f'Test set accuracy = {dataset_accuracy(net, testing_loader)}')"
      ]
    },
    {
      "cell_type": "code",
      "execution_count": 98,
      "metadata": {
        "colab": {
          "base_uri": "https://localhost:8080/",
          "height": 424
        },
        "id": "Cp-PUZ1xVs5O",
        "outputId": "13fba785-ebf5-4391-802e-0a7c6fb5c7c0"
      },
      "outputs": [
        {
          "output_type": "display_data",
          "data": {
            "text/plain": [
              "<Figure size 2000x600 with 10 Axes>"
            ],
            "image/png": "[encoded data removed]"
          },
          "metadata": {}
        }
      ],
      "source": [
        "import matplotlib.pyplot as plt\n",
        "import numpy as np\n",
        "\n",
        "def visualize_mnist(model, loader, num_images = 5):\n",
        "    random_choices = np.random.randint(1, 10000, size=num_images)\n",
        "\n",
        "    images_list = []\n",
        "    labels_list = []\n",
        "    predictions_list = []\n",
        "    probability_distributions_list = []\n",
        "\n",
        "    model.eval()\n",
        "    with torch.no_grad():\n",
        "        for choice in random_choices:\n",
        "            X, y = loader.dataset[choice]\n",
        "            X = X.reshape(-1, 784).to('cuda:0')\n",
        "\n",
        "            logits = model(X)\n",
        "\n",
        "            _, pred = torch.max(logits, 1)\n",
        "            predictions_list.append(pred.item())\n",
        "\n",
        "            probability_distributions_list.append(torch.softmax(logits, 1))\n",
        "\n",
        "            images_list.append(X.cpu())\n",
        "            labels_list.append(y)\n",
        "\n",
        "    fig, axes = plt.subplots(2, num_images, figsize=(20, 6))\n",
        "    for i in range(num_images):\n",
        "        axes[0, i].imshow(images_list[i].reshape(28,28), cmap='gray')\n",
        "        axes[0, i].axis('off')\n",
        "        axes[0, i].set_title(f'true: {labels_list[i]}\\npredicted: {predictions_list[i]}')\n",
        "        axes[1, i].bar(x=np.arange(10), height=probability_distributions_list[i].cpu().numpy().squeeze())\n",
        "        axes[1, i].set_xticks(np.arange(10))\n",
        "        axes[1, i].set_yticks(np.linspace(0.0, 1, 11))\n",
        "\n",
        "    model.train()\n",
        "    plt.show()\n",
        "visualize_mnist(net, testing_loader)"
      ]
    },
    {
      "cell_type": "code",
      "source": [
        "#save the model\n",
        "# torch.save(net, 'trained_model.pth')"
      ],
      "metadata": {
        "id": "yTM4uMqIukuc"
      },
      "execution_count": 99,
      "outputs": []
    },
    {
      "cell_type": "code",
      "source": [
        "#load the model (from github)\n",
        "# torch.load('trained_model.pth', weights_only=False)"
      ],
      "metadata": {
        "id": "A5YGbzBo5SMX"
      },
      "execution_count": 100,
      "outputs": []
    },
    {
      "cell_type": "code",
      "source": [
        "import gradio as gr\n",
        "from PIL import Image\n",
        "\n",
        "def predict(img):\n",
        "    # print(img.keys())\n",
        "\n",
        "    if isinstance(img, dict):\n",
        "        img = img[\"composite\"]\n",
        "\n",
        "    if img is None:\n",
        "        return {str(i): 0.0 for i in range(10)}\n",
        "\n",
        "\n",
        "    pil = Image.fromarray(img)\n",
        "    pil = pil.resize((28, 28)).convert('L')\n",
        "    image = np.array(pil, dtype=np.float32) / 255.0\n",
        "    image = image.reshape(-1, 28*28)\n",
        "\n",
        "    image = 1.0 - image\n",
        "\n",
        "\n",
        "    with torch.no_grad():\n",
        "        net.eval()\n",
        "\n",
        "        output = net(torch.from_numpy(image).cuda())\n",
        "        prediction = torch.softmax(output, 1).cpu().numpy()[0]\n",
        "\n",
        "        net.train()\n",
        "\n",
        "\n",
        "    return {str(i): float(prediction[i]) for i in range(10)}"
      ],
      "metadata": {
        "id": "9mY92Cb96S57"
      },
      "execution_count": 101,
      "outputs": []
    },
    {
      "cell_type": "code",
      "source": [
        "demo = gr.Interface(fn=predict, inputs=gr.Sketchpad(), outputs=gr.Label(num_top_classes=10), live=True)\n",
        "demo.launch(share=True, debug=False)"
      ],
      "metadata": {
        "colab": {
          "base_uri": "https://localhost:8080/",
          "height": 608
        },
        "id": "7godMtZM565p",
        "outputId": "53c261e6-61eb-4626-8b0a-7dffceb5c3b3"
      },
      "execution_count": 102,
      "outputs": [
        {
          "output_type": "stream",
          "name": "stdout",
          "text": [
            "Colab notebook detected. To show errors in colab notebook, set debug=True in launch()\n",
            "* Running on public URL: https://0aa2adc223b75da28d.gradio.live\n",
            "\n",
            "This share link expires in 1 week. For free permanent hosting and GPU upgrades, run `gradio deploy` from the terminal in the working directory to deploy to Hugging Face Spaces (https://huggingface.co/spaces)\n"
          ]
        },
        {
          "output_type": "display_data",
          "data": {
            "text/plain": [
              "<IPython.core.display.HTML object>"
            ],
            "text/html": [
              "<div><iframe src=\"https://0aa2adc223b75da28d.gradio.live\" width=\"100%\" height=\"500\" allow=\"autoplay; camera; microphone; clipboard-read; clipboard-write;\" frameborder=\"0\" allowfullscreen></iframe></div>"
            ]
          },
          "metadata": {}
        },
        {
          "output_type": "execute_result",
          "data": {
            "text/plain": []
          },
          "metadata": {},
          "execution_count": 102
        }
      ]
    }
  ],
  "metadata": {
    "accelerator": "GPU",
    "colab": {
      "gpuType": "T4",
      "provenance": [],
      "authorship_tag": "ABX9TyODMXeCfAxXbhK1ZUcNpspz"
    },
    "kernelspec": {
      "display_name": "Python 3",
      "name": "python3"
    },
    "language_info": {
      "name": "python"
    }
  },
  "nbformat": 4,
  "nbformat_minor": 0
}