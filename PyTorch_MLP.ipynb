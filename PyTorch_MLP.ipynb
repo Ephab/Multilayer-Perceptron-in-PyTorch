{
  "cells": [
    {
      "cell_type": "code",
      "execution_count": 1,
      "metadata": {
        "id": "iPhZYIVDkJWs"
      },
      "outputs": [],
      "source": [
        "import torch\n",
        "from torchvision import datasets, transforms\n",
        "from torch.utils.data import DataLoader\n",
        "import torch.nn as nn\n",
        "\n",
        "# !pip install gradio\n",
        "import gradio as gr"
      ]
    },
    {
      "cell_type": "code",
      "execution_count": 2,
      "metadata": {
        "colab": {
          "base_uri": "https://localhost:8080/"
        },
        "id": "c9dS1XkjkJZJ",
        "outputId": "95e63c7c-059f-476b-a4b3-b6b902c4ff2a"
      },
      "outputs": [
        {
          "output_type": "stream",
          "name": "stdout",
          "text": [
            "True\n"
          ]
        }
      ],
      "source": [
        "print(torch.cuda.is_available())\n",
        "device = 'cuda'"
      ]
    },
    {
      "cell_type": "code",
      "execution_count": 3,
      "metadata": {
        "id": "6zp-lifDkJba",
        "outputId": "2b9cc445-f25e-4a94-d955-c195276eac22",
        "colab": {
          "base_uri": "https://localhost:8080/"
        }
      },
      "outputs": [
        {
          "output_type": "stream",
          "name": "stderr",
          "text": [
            "100%|██████████| 9.91M/9.91M [00:00<00:00, 17.8MB/s]\n",
            "100%|██████████| 28.9k/28.9k [00:00<00:00, 483kB/s]\n",
            "100%|██████████| 1.65M/1.65M [00:00<00:00, 4.44MB/s]\n",
            "100%|██████████| 4.54k/4.54k [00:00<00:00, 10.9MB/s]\n"
          ]
        }
      ],
      "source": [
        "transform = transforms.ToTensor()\n",
        "\n",
        "training = datasets.MNIST('./data', train=True, download=True, transform=transform)\n",
        "testing = datasets.MNIST('./data', train=False, download=True, transform=transform)"
      ]
    },
    {
      "cell_type": "code",
      "execution_count": 4,
      "metadata": {
        "id": "dSIaZeKyRBSt"
      },
      "outputs": [],
      "source": [
        "from torch.utils.data import random_split\n",
        "\n",
        "train_set, dev_set = random_split(training, [50000, 10000])"
      ]
    },
    {
      "cell_type": "code",
      "execution_count": 5,
      "metadata": {
        "id": "-hjrghTLkJdz"
      },
      "outputs": [],
      "source": [
        "training_loader = DataLoader(train_set, batch_size=32, shuffle=True)\n",
        "dev_loader = DataLoader(dev_set, batch_size=32)\n",
        "testing_loader = DataLoader(testing, batch_size=32)"
      ]
    },
    {
      "cell_type": "code",
      "execution_count": 6,
      "metadata": {
        "id": "HtjAO-1OkJgG"
      },
      "outputs": [],
      "source": [
        "class NeuralNetwork(nn.Module):\n",
        "    def __init__(self, input_size, hidden_layers, output_size, dropout=0.0, batch_norm=True):\n",
        "        super().__init__()\n",
        "        self.layers = [input_size] + hidden_layers + [output_size]\n",
        "        self.network_layers = nn.ModuleList()\n",
        "        self.batch_norm_layers = nn.ModuleList()\n",
        "        self.batch_norm = batch_norm\n",
        "        self.relu = nn.ReLU()\n",
        "        self.dropout_prob = dropout\n",
        "        self.dropout = nn.Dropout(self.dropout_prob)\n",
        "\n",
        "        for i in range(len(self.layers)-1):\n",
        "            self.network_layers.append(nn.Linear(self.layers[i], self.layers[i+1]))\n",
        "            if batch_norm == True:\n",
        "                self.batch_norm_layers.append(nn.BatchNorm1d(self.layers[i+1]))\n",
        "\n",
        "    def forward(self, x):\n",
        "        for i in range(len(self.network_layers)-1): # all layers except output\n",
        "            x = self.network_layers[i](x)\n",
        "            if self.batch_norm:\n",
        "                x = self.batch_norm_layers[i](x)\n",
        "            x = self.relu(x)\n",
        "            x = self.dropout(x)\n",
        "\n",
        "        #output\n",
        "        x = self.network_layers[-1](x)\n",
        "        return x"
      ]
    },
    {
      "cell_type": "code",
      "execution_count": 7,
      "metadata": {
        "colab": {
          "base_uri": "https://localhost:8080/"
        },
        "id": "hT_BwRIplU_D",
        "outputId": "ff42890e-1a4f-4a6a-d1fb-f79c6bb1e160"
      },
      "outputs": [
        {
          "output_type": "stream",
          "name": "stdout",
          "text": [
            "[784, 256, 10]\n"
          ]
        }
      ],
      "source": [
        "net = NeuralNetwork(784, [256], 10, dropout=0.3, batch_norm=True).cuda()\n",
        "print(net.layers)"
      ]
    },
    {
      "cell_type": "code",
      "execution_count": 8,
      "metadata": {
        "id": "tgTsky-SShkV"
      },
      "outputs": [],
      "source": [
        "def dataset_accuracy(model, loader):\n",
        "    model.eval()\n",
        "\n",
        "    with torch.no_grad():\n",
        "        correct_predictions = 0\n",
        "        for X, y in loader:\n",
        "\n",
        "            X = X.reshape(-1, 784).cuda()\n",
        "            y = y.cuda()\n",
        "\n",
        "            output = model(X)\n",
        "            correct_predictions += torch.sum(torch.max(output, 1)[1] == y).item()\n",
        "\n",
        "        model.train()\n",
        "        return correct_predictions / len(loader.dataset)"
      ]
    },
    {
      "cell_type": "code",
      "execution_count": 9,
      "metadata": {
        "colab": {
          "base_uri": "https://localhost:8080/"
        },
        "id": "czrDSz8-qcss",
        "outputId": "2fdca8ea-aa7e-46e1-ed62-71832743bc98"
      },
      "outputs": [
        {
          "output_type": "stream",
          "name": "stdout",
          "text": [
            "epoch: 1  loss = 0.2939174761715621, training accuracy = 0.91682, dev accuracy = 0.9561\n",
            "epoch: 2  loss = 0.17007654653391394, training accuracy = 0.95012, dev accuracy = 0.9684\n",
            "epoch: 3  loss = 0.14007578106443336, training accuracy = 0.95846, dev accuracy = 0.9695\n",
            "epoch: 4  loss = 0.12188585035464776, training accuracy = 0.96364, dev accuracy = 0.9743\n",
            "epoch: 5  loss = 0.10786020682477562, training accuracy = 0.9673, dev accuracy = 0.9763\n",
            "epoch: 6  loss = 0.10044640721991582, training accuracy = 0.96996, dev accuracy = 0.9764\n",
            "epoch: 7  loss = 0.09510821265109498, training accuracy = 0.97072, dev accuracy = 0.9776\n",
            "epoch: 8  loss = 0.09015630465864859, training accuracy = 0.97238, dev accuracy = 0.9783\n",
            "epoch: 9  loss = 0.0854308284724981, training accuracy = 0.9742, dev accuracy = 0.9791\n",
            "epoch: 10  loss = 0.08238577987833076, training accuracy = 0.97492, dev accuracy = 0.9773\n",
            "epoch: 11  loss = 0.07783002678873358, training accuracy = 0.97694, dev accuracy = 0.9804\n",
            "epoch: 12  loss = 0.0735123610309899, training accuracy = 0.97752, dev accuracy = 0.9792\n",
            "epoch: 13  loss = 0.07568382260122086, training accuracy = 0.97718, dev accuracy = 0.9794\n",
            "epoch: 14  loss = 0.07218966338356274, training accuracy = 0.97834, dev accuracy = 0.9786\n",
            "epoch: 15  loss = 0.06967818384968645, training accuracy = 0.97922, dev accuracy = 0.9813\n",
            "epoch: 16  loss = 0.0704983714571722, training accuracy = 0.97822, dev accuracy = 0.9799\n",
            "epoch: 17  loss = 0.06632791216287379, training accuracy = 0.9801, dev accuracy = 0.9819\n",
            "epoch: 18  loss = 0.0668360888773262, training accuracy = 0.97996, dev accuracy = 0.9799\n",
            "epoch: 19  loss = 0.06432967974747139, training accuracy = 0.98022, dev accuracy = 0.9805\n",
            "epoch: 20  loss = 0.06437767260235401, training accuracy = 0.981, dev accuracy = 0.9807\n",
            "------------------\n",
            "Test set accuracy = 0.9807\n"
          ]
        }
      ],
      "source": [
        "import torch.optim\n",
        "\n",
        "loss_function = nn.CrossEntropyLoss()\n",
        "optimizer = torch.optim.AdamW(net.parameters(), lr=0.0008, weight_decay=0.06)\n",
        "\n",
        "epochs = 20\n",
        "for epoch in range(epochs):\n",
        "\n",
        "    epoch_loss = 0\n",
        "    correct_predictions = 0\n",
        "\n",
        "    for X, y in training_loader:\n",
        "\n",
        "        X = X.reshape(-1, 784).cuda()\n",
        "        y = y.cuda()\n",
        "\n",
        "        optimizer.zero_grad()\n",
        "        output = net(X)\n",
        "        loss = loss_function(output, y)\n",
        "        loss.backward()\n",
        "        optimizer.step()\n",
        "\n",
        "        epoch_loss += loss.item()\n",
        "        correct_predictions += torch.sum(torch.max(output, dim=1)[1] == y).item()\n",
        "\n",
        "    loss_score = epoch_loss/len(training_loader)\n",
        "    training_accuracy = correct_predictions/len(training_loader.dataset)\n",
        "    dev_accuracy = dataset_accuracy(net, dev_loader)\n",
        "\n",
        "    print(f\"epoch: {epoch+1}  loss = {loss_score}, training accuracy = {training_accuracy}, dev accuracy = {dev_accuracy}\")\n",
        "\n",
        "print('------------------')\n",
        "print(f'Test set accuracy = {dataset_accuracy(net, testing_loader)}')"
      ]
    },
    {
      "cell_type": "code",
      "execution_count": 10,
      "metadata": {
        "colab": {
          "base_uri": "https://localhost:8080/",
          "height": 424
        },
        "id": "Cp-PUZ1xVs5O",
        "outputId": "75a8ec83-f01b-4cb8-c66c-0f163ab0ff09"
      },
      "outputs": [
        {
          "output_type": "display_data",
          "data": {
            "text/plain": [
              "<Figure size 2000x600 with 10 Axes>"
            ],
            "image/png": "[encoded data removed]"
          },
          "metadata": {}
        }
      ],
      "source": [
        "import matplotlib.pyplot as plt\n",
        "import numpy as np\n",
        "\n",
        "def visualize_mnist(model, loader, num_images = 5):\n",
        "    random_choices = np.random.randint(1, 10000, size=num_images)\n",
        "\n",
        "    images_list = []\n",
        "    labels_list = []\n",
        "    predictions_list = []\n",
        "    probability_distributions_list = []\n",
        "\n",
        "    model.eval()\n",
        "    with torch.no_grad():\n",
        "        for choice in random_choices:\n",
        "            X, y = loader.dataset[choice]\n",
        "            X = X.reshape(-1, 784).to('cuda:0')\n",
        "\n",
        "            logits = model(X)\n",
        "\n",
        "            _, pred = torch.max(logits, 1)\n",
        "            predictions_list.append(pred.item())\n",
        "\n",
        "            probability_distributions_list.append(torch.softmax(logits, 1))\n",
        "\n",
        "            images_list.append(X.cpu())\n",
        "            labels_list.append(y)\n",
        "\n",
        "    fig, axes = plt.subplots(2, num_images, figsize=(20, 6))\n",
        "    for i in range(num_images):\n",
        "        axes[0, i].imshow(images_list[i].reshape(28,28), cmap='gray')\n",
        "        axes[0, i].axis('off')\n",
        "        axes[0, i].set_title(f'true: {labels_list[i]}\\npredicted: {predictions_list[i]}')\n",
        "        axes[1, i].bar(x=np.arange(10), height=probability_distributions_list[i].cpu().numpy().squeeze())\n",
        "        axes[1, i].set_xticks(np.arange(10))\n",
        "        axes[1, i].set_yticks(np.linspace(0.0, 1, 11))\n",
        "\n",
        "    model.train()\n",
        "    plt.show()\n",
        "visualize_mnist(net, testing_loader)"
      ]
    },
    {
      "cell_type": "code",
      "source": [
        "import gradio as gr\n",
        "from PIL import Image\n",
        "\n",
        "def predict(img):\n",
        "    # print(img.keys())\n",
        "\n",
        "    if isinstance(img, dict):\n",
        "        img = img[\"composite\"]\n",
        "\n",
        "    if img is None:\n",
        "        return {str(i): 0.0 for i in range(10)}\n",
        "\n",
        "\n",
        "    pil = Image.fromarray(img)\n",
        "    pil = pil.resize((28, 28)).convert('L')\n",
        "    image = np.array(pil, dtype=np.float32) / 255.0\n",
        "    image = image.reshape(-1, 28*28)\n",
        "\n",
        "    image = 1.0 - image\n",
        "\n",
        "\n",
        "    with torch.no_grad():\n",
        "        net.eval()\n",
        "\n",
        "        output = net(torch.from_numpy(image).cuda())\n",
        "        prediction = torch.softmax(output, 1).cpu().numpy()[0]\n",
        "\n",
        "        net.train()\n",
        "\n",
        "\n",
        "    return {str(i): float(prediction[i]) for i in range(10)}"
      ],
      "metadata": {
        "id": "9mY92Cb96S57"
      },
      "execution_count": 11,
      "outputs": []
    },
    {
      "cell_type": "code",
      "source": [
        "demo = gr.Interface(fn=predict, inputs=gr.Sketchpad(), outputs=gr.Label(num_top_classes=10), live=True)\n",
        "demo.launch(share=True, debug=False)"
      ],
      "metadata": {
        "colab": {
          "base_uri": "https://localhost:8080/",
          "height": 608
        },
        "id": "7godMtZM565p",
        "outputId": "e1ccb991-8eb3-472f-91e8-66eee71b9acd"
      },
      "execution_count": 12,
      "outputs": [
        {
          "output_type": "stream",
          "name": "stdout",
          "text": [
            "Colab notebook detected. To show errors in colab notebook, set debug=True in launch()\n",
            "* Running on public URL: https://844af60da32afe002c.gradio.live\n",
            "\n",
            "This share link expires in 1 week. For free permanent hosting and GPU upgrades, run `gradio deploy` from the terminal in the working directory to deploy to Hugging Face Spaces (https://huggingface.co/spaces)\n"
          ]
        },
        {
          "output_type": "display_data",
          "data": {
            "text/plain": [
              "<IPython.core.display.HTML object>"
            ],
            "text/html": [
              "<div><iframe src=\"https://844af60da32afe002c.gradio.live\" width=\"100%\" height=\"500\" allow=\"autoplay; camera; microphone; clipboard-read; clipboard-write;\" frameborder=\"0\" allowfullscreen></iframe></div>"
            ]
          },
          "metadata": {}
        },
        {
          "output_type": "execute_result",
          "data": {
            "text/plain": []
          },
          "metadata": {},
          "execution_count": 12
        }
      ]
    },
    {
      "cell_type": "code",
      "source": [
        "optimizers = {\n",
        "    'adam': torch.optim.AdamW,\n",
        "    'rmsprop': torch.optim.RMSprop,\n",
        "    'sgd': torch.optim.SGD\n",
        "}\n",
        "\n",
        "learning_rate_decays = {\n",
        "    'step': torch.optim.lr_scheduler.StepLR\n",
        "}\n",
        "\n",
        "def train(epochs, hidden_layers:list, optimizer, lr, weight_decay, dropout, batch_norm, lr_decay='step'):\n",
        "    net = NeuralNetwork(784, hidden_layers, 10, dropout=dropout, batch_norm=batch_norm).cuda()\n",
        "\n",
        "    loss_function = nn.CrossEntropyLoss()\n",
        "    optimizer = optimizers[optimizer](net.parameters(), lr = lr, weight_decay=weight_decay)\n",
        "    scheduler = learning_rate_decays[lr_decay](optimizer, step_size=5, gamma=0.5)\n",
        "\n",
        "    train_losses = []\n",
        "    train_accuracies = []\n",
        "    dev_accuracies = []\n",
        "\n",
        "    for epoch in range(epochs):\n",
        "        epoch_loss = 0\n",
        "        correct_predictions = 0\n",
        "\n",
        "        for X, y in training_loader:\n",
        "\n",
        "            X = X.reshape(-1, 784).cuda()\n",
        "            y = y.cuda()\n",
        "\n",
        "            optimizer.zero_grad()\n",
        "            output = net(X)\n",
        "            loss = loss_function(output, y)\n",
        "            loss.backward()\n",
        "            optimizer.step()\n",
        "\n",
        "            epoch_loss += loss.item()\n",
        "            correct_predictions += torch.sum(torch.max(output, dim=1)[1] == y).item()\n",
        "\n",
        "        scheduler.step()\n",
        "\n",
        "        loss_score = epoch_loss/len(training_loader)\n",
        "        training_accuracy = correct_predictions/len(training_loader.dataset)\n",
        "        dev_accuracy = dataset_accuracy(net, dev_loader)\n",
        "\n",
        "        train_losses.append(loss_score)\n",
        "        train_accuracies.append(training_accuracy)\n",
        "        dev_accuracies.append(dev_accuracy)\n",
        "\n",
        "        print(f\"epoch {epoch+1}: training_loss = {loss_score:.9f}, train_accuracy = {training_accuracy:.7f}, dev_accuracy = {dev_accuracy:.7f}\")\n",
        "    print('\\n\\n')\n",
        "    return {'training_losses':train_losses, 'training_accuracies':train_accuracies, 'dev_accuracies':dev_accuracies}"
      ],
      "metadata": {
        "id": "suqBic-3Md0s"
      },
      "execution_count": 41,
      "outputs": []
    },
    {
      "cell_type": "code",
      "source": [
        "history = train(epochs=20, hidden_layers=[256, 128], optimizer='adam', lr=0.001, weight_decay=0.06, dropout=0.3, batch_norm=True, lr_decay='step')"
      ],
      "metadata": {
        "id": "sDCSdm58P04N",
        "outputId": "c9b192c8-ce81-48ed-e1dd-fa220e52723a",
        "colab": {
          "base_uri": "https://localhost:8080/"
        }
      },
      "execution_count": 42,
      "outputs": [
        {
          "output_type": "stream",
          "name": "stdout",
          "text": [
            "epoch 1: training_loss = 0.329772878, train_accuracy = 0.9047000, dev_accuracy = 0.9616000\n",
            "epoch 2: training_loss = 0.184896927, train_accuracy = 0.9444600, dev_accuracy = 0.9712000\n",
            "epoch 3: training_loss = 0.157207086, train_accuracy = 0.9515800, dev_accuracy = 0.9748000\n",
            "epoch 4: training_loss = 0.135520709, train_accuracy = 0.9577600, dev_accuracy = 0.9784000\n",
            "epoch 5: training_loss = 0.125046884, train_accuracy = 0.9613000, dev_accuracy = 0.9776000\n",
            "epoch 6: training_loss = 0.095103072, train_accuracy = 0.9704800, dev_accuracy = 0.9817000\n",
            "epoch 7: training_loss = 0.086974761, train_accuracy = 0.9730400, dev_accuracy = 0.9831000\n",
            "epoch 8: training_loss = 0.081147583, train_accuracy = 0.9744400, dev_accuracy = 0.9807000\n",
            "epoch 9: training_loss = 0.079502362, train_accuracy = 0.9752000, dev_accuracy = 0.9827000\n",
            "epoch 10: training_loss = 0.074206090, train_accuracy = 0.9768400, dev_accuracy = 0.9836000\n",
            "epoch 11: training_loss = 0.061051676, train_accuracy = 0.9809400, dev_accuracy = 0.9840000\n",
            "epoch 12: training_loss = 0.057656655, train_accuracy = 0.9827800, dev_accuracy = 0.9860000\n",
            "epoch 13: training_loss = 0.054248200, train_accuracy = 0.9829000, dev_accuracy = 0.9861000\n",
            "epoch 14: training_loss = 0.051473228, train_accuracy = 0.9841200, dev_accuracy = 0.9844000\n",
            "epoch 15: training_loss = 0.051612102, train_accuracy = 0.9833600, dev_accuracy = 0.9855000\n",
            "epoch 16: training_loss = 0.044620968, train_accuracy = 0.9865000, dev_accuracy = 0.9855000\n",
            "epoch 17: training_loss = 0.042840632, train_accuracy = 0.9868000, dev_accuracy = 0.9856000\n",
            "epoch 18: training_loss = 0.039561815, train_accuracy = 0.9877400, dev_accuracy = 0.9868000\n",
            "epoch 19: training_loss = 0.039390124, train_accuracy = 0.9876800, dev_accuracy = 0.9865000\n",
            "epoch 20: training_loss = 0.037416939, train_accuracy = 0.9882200, dev_accuracy = 0.9866000\n",
            "\n",
            "\n",
            "\n"
          ]
        }
      ]
    },
    {
      "cell_type": "code",
      "source": [
        "plt.plot(history['training_losses'], label='training Loss')\n",
        "plt.plot(history['training_accuracies'], label='Training Accuracy')\n",
        "plt.plot(history['dev_accuracies'], label='Dev Accuracy')\n",
        "plt.legend()\n",
        "plt.show()"
      ],
      "metadata": {
        "id": "luXMB943SMTs",
        "outputId": "1cc2d4ca-408f-48b4-ddd4-3d9453f2fddd",
        "colab": {
          "base_uri": "https://localhost:8080/",
          "height": 450
        }
      },
      "execution_count": 43,
      "outputs": [
        {
          "output_type": "display_data",
          "data": {
            "text/plain": [
              "<Figure size 640x480 with 1 Axes>"
            ],
            "image/png": "[encoded data removed]"
          },
          "metadata": {}
        }
      ]
    }
  ],
  "metadata": {
    "accelerator": "GPU",
    "colab": {
      "gpuType": "T4",
      "provenance": [],
      "authorship_tag": "ABX9TyPfz/i4Ky8hg0jDbUlzc4kf"
    },
    "kernelspec": {
      "display_name": "Python 3",
      "name": "python3"
    },
    "language_info": {
      "name": "python"
    }
  },
  "nbformat": 4,
  "nbformat_minor": 0
}